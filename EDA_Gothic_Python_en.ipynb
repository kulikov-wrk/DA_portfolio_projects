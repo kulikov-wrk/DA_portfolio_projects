{
 "cells": [
  {
   "cell_type": "markdown",
   "metadata": {},
   "source": [
    "<h1>Анализ результатов опроса игроков тизера игры Готика</h1>\n",
    "\n",
    "<p>Ссылка на результат опубликована в Steam https://steamcommunity.com/app/950670/discussions/0/1742267854809566431. Источник данных https://drive.google.com/drive/folders/1QJYZJsKn3ttbA8g5Lr-15XOHZFHEqu5S</p>\n",
    "<p>Пояснение к кейсу. Всем пользователям Steam, у которых в библиотеке были игры серии Готика (Gothic, Gothic 2, Gothic 2: Night of Raven, Gothic 3), разработчкики предоставили возможность бесплатно опробовать тизер новой версии игры. По результатам предлагалось пройтии опрос, опубликованный в Google Forms</p>\n",
    "<p>Описательный анализ: знакомство с датасетом</p>"
   ]
  },
  {
   "cell_type": "markdown",
   "metadata": {},
   "source": [
    "<h2>Подготовка и знакомство с датасетом</h2>\n",
    "<p>Загрузка пакетов</p>"
   ]
  },
  {
   "cell_type": "code",
   "execution_count": 1,
   "metadata": {},
   "outputs": [],
   "source": [
    "import numpy as np\n",
    "import pandas as pd\n",
    "import matplotlib.pyplot as plt\n",
    "import seaborn as sns\n",
    "from collections import Counter as Counter\n",
    "import statistics"
   ]
  },
  {
   "cell_type": "markdown",
   "metadata": {},
   "source": [
    "Загрузка файла и просмотр размера таблицы"
   ]
  },
  {
   "cell_type": "code",
   "execution_count": 2,
   "metadata": {},
   "outputs": [
    {
     "data": {
      "text/plain": [
       "(43114, 23)"
      ]
     },
     "execution_count": 2,
     "metadata": {},
     "output_type": "execute_result"
    }
   ],
   "source": [
    "df_raw = pd.read_excel(\"./data/Gothic_survey/Gothic (pt) Survey (Responses)_FINAL.xlsx\")\n",
    "df_raw.shape"
   ]
  },
  {
   "cell_type": "markdown",
   "metadata": {},
   "source": [
    "Правка настроек вывода таблицы и графиков."
   ]
  },
  {
   "cell_type": "code",
   "execution_count": 3,
   "metadata": {},
   "outputs": [],
   "source": [
    "pd.set_option('display.max_column', 23)\n",
    "pd.set_option('display.max_row', 23)\n",
    "sns.set_style('whitegrid')\n",
    "plt.style.use('seaborn-v0_8-whitegrid')"
   ]
  },
  {
   "cell_type": "markdown",
   "metadata": {},
   "source": [
    "Структура таблицы"
   ]
  },
  {
   "cell_type": "code",
   "execution_count": 4,
   "metadata": {},
   "outputs": [
    {
     "name": "stdout",
     "output_type": "stream",
     "text": [
      "<class 'pandas.core.frame.DataFrame'>\n",
      "RangeIndex: 43114 entries, 0 to 43113\n",
      "Data columns (total 23 columns):\n",
      " #   Column                                                                                                                                 Non-Null Count  Dtype         \n",
      "---  ------                                                                                                                                 --------------  -----         \n",
      " 0   Timestamp                                                                                                                              43114 non-null  datetime64[ns]\n",
      " 1   What is your age?                                                                                                                      43113 non-null  object        \n",
      " 2   What type of gamer do you consider yourself?                                                                                           43113 non-null  float64       \n",
      " 3   What Gothic games have you played?                                                                                                     43113 non-null  object        \n",
      " 4   Which of these other games/game series have you played?                                                                                43111 non-null  object        \n",
      " 5   What are your favorite genres?                                                                                                         43113 non-null  object        \n",
      " 6   On which platforms do you play games?                                                                                                  43113 non-null  object        \n",
      " 7   How did you play Gothic Playable Teaser?                                                                                               43113 non-null  object        \n",
      " 8   Have you finished Gothic Playable Teaser?                                                                                              43113 non-null  object        \n",
      " 9   Please rate the visuals in the Gothic Playable Teaser                                                                                  43114 non-null  int64         \n",
      " 10  Please rate the animations in the Gothic Playable Teaser                                                                               43114 non-null  int64         \n",
      " 11  Please rate the sound in the Gothic Playable Teaser                                                                                    43114 non-null  int64         \n",
      " 12  Please rate the music in the Gothic Playable Teaser                                                                                    43114 non-null  int64         \n",
      " 13  Please rate the controls in the Gothic Playable Teaser                                                                                 43114 non-null  int64         \n",
      " 14  Please rate the combat system in the Gothic Playable Teaser                                                                            43114 non-null  int64         \n",
      " 15  How did you like the approach to re-interpret the plot?                                                                                43114 non-null  object        \n",
      " 16  What do you like to see as next Gothic game?                                                                                           43112 non-null  object        \n",
      " 17  Would you call yourself a diehard Gothic fan?                                                                                          43113 non-null  object        \n",
      " 18  What was your favorite Gothic game?                                                                                                    43113 non-null  object        \n",
      " 19  Please rate the English VO in the Gothic Playable Teaser                                                                               43114 non-null  int64         \n",
      " 20  What overall score would you give the Gothic Playable Teaser?                                                                          43114 non-null  object        \n",
      " 21  Based on what you have played in Gothic Playable Teaser: Would you want us to continue the development and release it as a full game?  43114 non-null  object        \n",
      " 22  Please rate the user interface in the Gothic Playable Teaser                                                                           43111 non-null  float64       \n",
      "dtypes: datetime64[ns](1), float64(2), int64(7), object(13)\n",
      "memory usage: 7.6+ MB\n"
     ]
    }
   ],
   "source": [
    "df_raw.info()"
   ]
  },
  {
   "cell_type": "markdown",
   "metadata": {},
   "source": [
    "Заголовок 21 столбца слишком длинный, Timestamp импортирован как текст. Начинаются правки, поэтому через копию таблицы."
   ]
  },
  {
   "cell_type": "code",
   "execution_count": 5,
   "metadata": {},
   "outputs": [],
   "source": [
    "df_wrk = df_raw.copy()"
   ]
  },
  {
   "cell_type": "code",
   "execution_count": 6,
   "metadata": {},
   "outputs": [
    {
     "data": {
      "text/plain": [
       "'Continue development?'"
      ]
     },
     "execution_count": 6,
     "metadata": {},
     "output_type": "execute_result"
    }
   ],
   "source": [
    "df_wrk.rename(columns = {\"Based on what you have played in Gothic Playable Teaser: Would you want us to continue the development and release it as a full game?\" : \"Continue development?\"}, inplace = True)\n",
    "df_wrk.columns[21]"
   ]
  },
  {
   "cell_type": "code",
   "execution_count": 7,
   "metadata": {},
   "outputs": [],
   "source": [
    "df_wrk['Timestamp'] = pd.to_datetime(df_wrk['Timestamp'], format='%m %d %Y %H:%M:%S')"
   ]
  },
  {
   "cell_type": "markdown",
   "metadata": {},
   "source": [
    "Проверка вопросов по заголовкам столбцов и наличия пропущенных значений."
   ]
  },
  {
   "cell_type": "code",
   "execution_count": 8,
   "metadata": {},
   "outputs": [
    {
     "data": {
      "text/plain": [
       "Please rate the user interface in the Gothic Playable Teaser     3\n",
       "Which of these other games/game series have you played?          3\n",
       "What do you like to see as next Gothic game?                     2\n",
       "What type of gamer do you consider yourself?                     1\n",
       "What Gothic games have you played?                               1\n",
       "What are your favorite genres?                                   1\n",
       "On which platforms do you play games?                            1\n",
       "How did you play Gothic Playable Teaser?                         1\n",
       "Have you finished Gothic Playable Teaser?                        1\n",
       "What is your age?                                                1\n",
       "What was your favorite Gothic game?                              1\n",
       "Would you call yourself a diehard Gothic fan?                    1\n",
       "Continue development?                                            0\n",
       "What overall score would you give the Gothic Playable Teaser?    0\n",
       "Please rate the English VO in the Gothic Playable Teaser         0\n",
       "Timestamp                                                        0\n",
       "How did you like the approach to re-interpret the plot?          0\n",
       "Please rate the combat system in the Gothic Playable Teaser      0\n",
       "Please rate the controls in the Gothic Playable Teaser           0\n",
       "Please rate the music in the Gothic Playable Teaser              0\n",
       "Please rate the animations in the Gothic Playable Teaser         0\n",
       "Please rate the visuals in the Gothic Playable Teaser            0\n",
       "Please rate the sound in the Gothic Playable Teaser              0\n",
       "dtype: int64"
      ]
     },
     "execution_count": 8,
     "metadata": {},
     "output_type": "execute_result"
    }
   ],
   "source": [
    "df_wrk.isna().sum().sort_values(ascending=False)"
   ]
  },
  {
   "cell_type": "markdown",
   "metadata": {},
   "source": [
    "<p>Пропущенных значений мало по сравнению с объемом данных. Пока оставлю.</p>"
   ]
  },
  {
   "cell_type": "markdown",
   "metadata": {},
   "source": [
    "Предпросмотр таблицы\n"
   ]
  },
  {
   "cell_type": "code",
   "execution_count": 9,
   "metadata": {},
   "outputs": [
    {
     "data": {
      "text/html": [
       "<div>\n",
       "<style scoped>\n",
       "    .dataframe tbody tr th:only-of-type {\n",
       "        vertical-align: middle;\n",
       "    }\n",
       "\n",
       "    .dataframe tbody tr th {\n",
       "        vertical-align: top;\n",
       "    }\n",
       "\n",
       "    .dataframe thead th {\n",
       "        text-align: right;\n",
       "    }\n",
       "</style>\n",
       "<table border=\"1\" class=\"dataframe\">\n",
       "  <thead>\n",
       "    <tr style=\"text-align: right;\">\n",
       "      <th></th>\n",
       "      <th>Timestamp</th>\n",
       "      <th>What is your age?</th>\n",
       "      <th>What type of gamer do you consider yourself?</th>\n",
       "      <th>What Gothic games have you played?</th>\n",
       "      <th>Which of these other games/game series have you played?</th>\n",
       "      <th>What are your favorite genres?</th>\n",
       "      <th>On which platforms do you play games?</th>\n",
       "      <th>How did you play Gothic Playable Teaser?</th>\n",
       "      <th>Have you finished Gothic Playable Teaser?</th>\n",
       "      <th>Please rate the visuals in the Gothic Playable Teaser</th>\n",
       "      <th>Please rate the animations in the Gothic Playable Teaser</th>\n",
       "      <th>Please rate the sound in the Gothic Playable Teaser</th>\n",
       "      <th>Please rate the music in the Gothic Playable Teaser</th>\n",
       "      <th>Please rate the controls in the Gothic Playable Teaser</th>\n",
       "      <th>Please rate the combat system in the Gothic Playable Teaser</th>\n",
       "      <th>How did you like the approach to re-interpret the plot?</th>\n",
       "      <th>What do you like to see as next Gothic game?</th>\n",
       "      <th>Would you call yourself a diehard Gothic fan?</th>\n",
       "      <th>What was your favorite Gothic game?</th>\n",
       "      <th>Please rate the English VO in the Gothic Playable Teaser</th>\n",
       "      <th>What overall score would you give the Gothic Playable Teaser?</th>\n",
       "      <th>Continue development?</th>\n",
       "      <th>Please rate the user interface in the Gothic Playable Teaser</th>\n",
       "    </tr>\n",
       "  </thead>\n",
       "  <tbody>\n",
       "    <tr>\n",
       "      <th>0</th>\n",
       "      <td>2019-11-28 13:55:37.639</td>\n",
       "      <td>36-42</td>\n",
       "      <td>5.0</td>\n",
       "      <td>Gothic, Gothic 2 (including Night of the Raven...</td>\n",
       "      <td>Elder Scrolls, The Witcher, Risen, ArcaniA, Fa...</td>\n",
       "      <td>RPG, Turn basted strategy, RTS</td>\n",
       "      <td>PC</td>\n",
       "      <td>Keyboard/Mouse</td>\n",
       "      <td>Yes</td>\n",
       "      <td>10</td>\n",
       "      <td>8</td>\n",
       "      <td>3</td>\n",
       "      <td>4</td>\n",
       "      <td>3</td>\n",
       "      <td>4</td>\n",
       "      <td>It was spot on!</td>\n",
       "      <td>Gothic Sequel</td>\n",
       "      <td>No</td>\n",
       "      <td>Gothic, Gothic 2 (with or without Night of the...</td>\n",
       "      <td>4</td>\n",
       "      <td>85</td>\n",
       "      <td>Yes</td>\n",
       "      <td>NaN</td>\n",
       "    </tr>\n",
       "    <tr>\n",
       "      <th>1</th>\n",
       "      <td>2019-11-28 14:06:46.056</td>\n",
       "      <td>36-42</td>\n",
       "      <td>4.0</td>\n",
       "      <td>Gothic, Gothic 2 (including Night of the Raven...</td>\n",
       "      <td>Elder Scrolls, The Witcher, Mount &amp; Blade, Kin...</td>\n",
       "      <td>RPG, MMO, Action/Shooters, Strategy</td>\n",
       "      <td>PC, Consoles</td>\n",
       "      <td>Keyboard/Mouse</td>\n",
       "      <td>Yes</td>\n",
       "      <td>8</td>\n",
       "      <td>9</td>\n",
       "      <td>4</td>\n",
       "      <td>5</td>\n",
       "      <td>3</td>\n",
       "      <td>2</td>\n",
       "      <td>Didnt like it at all</td>\n",
       "      <td>Gothic Sequel</td>\n",
       "      <td>No</td>\n",
       "      <td>Gothic 3</td>\n",
       "      <td>4</td>\n",
       "      <td>80</td>\n",
       "      <td>Yes</td>\n",
       "      <td>NaN</td>\n",
       "    </tr>\n",
       "    <tr>\n",
       "      <th>2</th>\n",
       "      <td>2019-12-02 18:18:52.172</td>\n",
       "      <td>36-42</td>\n",
       "      <td>4.0</td>\n",
       "      <td>Gothic, Gothic 2 (including Night of the Raven...</td>\n",
       "      <td>Elder Scrolls, The Witcher, Kingdom Come, Rise...</td>\n",
       "      <td>RPG, Action Adventure</td>\n",
       "      <td>PC, Consoles</td>\n",
       "      <td>Gamepad</td>\n",
       "      <td>Yes</td>\n",
       "      <td>9</td>\n",
       "      <td>9</td>\n",
       "      <td>4</td>\n",
       "      <td>4</td>\n",
       "      <td>4</td>\n",
       "      <td>4</td>\n",
       "      <td>It was spot on!</td>\n",
       "      <td>Gothic Remake(s)</td>\n",
       "      <td>No</td>\n",
       "      <td>Gothic</td>\n",
       "      <td>4</td>\n",
       "      <td>80</td>\n",
       "      <td>Yes</td>\n",
       "      <td>NaN</td>\n",
       "    </tr>\n",
       "    <tr>\n",
       "      <th>3</th>\n",
       "      <td>2019-12-10 18:36:41.468</td>\n",
       "      <td>28-35</td>\n",
       "      <td>5.0</td>\n",
       "      <td>Gothic, Gothic 2 (including Night of the Raven...</td>\n",
       "      <td>Elder Scrolls, The Witcher, Kingdom Come, ELEX...</td>\n",
       "      <td>RPG</td>\n",
       "      <td>PC, Consoles</td>\n",
       "      <td>Keyboard/Mouse</td>\n",
       "      <td>Yes</td>\n",
       "      <td>5</td>\n",
       "      <td>4</td>\n",
       "      <td>5</td>\n",
       "      <td>5</td>\n",
       "      <td>4</td>\n",
       "      <td>5</td>\n",
       "      <td>It was spot on!</td>\n",
       "      <td>Gothic Remake(s)</td>\n",
       "      <td>Yes</td>\n",
       "      <td>Gothic 2 (with or without Night of the Raven)</td>\n",
       "      <td>3</td>\n",
       "      <td>80</td>\n",
       "      <td>Yes</td>\n",
       "      <td>5.0</td>\n",
       "    </tr>\n",
       "    <tr>\n",
       "      <th>4</th>\n",
       "      <td>2019-12-11 14:41:54.994</td>\n",
       "      <td>36-42</td>\n",
       "      <td>3.0</td>\n",
       "      <td>Gothic, Gothic 2 (including Night of the Raven...</td>\n",
       "      <td>The Witcher, Kingdom Come, ELEX, Risen, Fallout</td>\n",
       "      <td>RPG, Action Adventure, Adventure Games</td>\n",
       "      <td>PC, Phones</td>\n",
       "      <td>Keyboard/Mouse</td>\n",
       "      <td>Yes</td>\n",
       "      <td>4</td>\n",
       "      <td>5</td>\n",
       "      <td>5</td>\n",
       "      <td>5</td>\n",
       "      <td>3</td>\n",
       "      <td>2</td>\n",
       "      <td>It was spot on!</td>\n",
       "      <td>Gothic Episodic Spin-Offs</td>\n",
       "      <td>Yes</td>\n",
       "      <td>Gothic 2 (with or without Night of the Raven)</td>\n",
       "      <td>3</td>\n",
       "      <td>85</td>\n",
       "      <td>Yes</td>\n",
       "      <td>4.0</td>\n",
       "    </tr>\n",
       "  </tbody>\n",
       "</table>\n",
       "</div>"
      ],
      "text/plain": [
       "                Timestamp What is your age?  \\\n",
       "0 2019-11-28 13:55:37.639             36-42   \n",
       "1 2019-11-28 14:06:46.056             36-42   \n",
       "2 2019-12-02 18:18:52.172             36-42   \n",
       "3 2019-12-10 18:36:41.468             28-35   \n",
       "4 2019-12-11 14:41:54.994             36-42   \n",
       "\n",
       "   What type of gamer do you consider yourself?  \\\n",
       "0                                           5.0   \n",
       "1                                           4.0   \n",
       "2                                           4.0   \n",
       "3                                           5.0   \n",
       "4                                           3.0   \n",
       "\n",
       "                  What Gothic games have you played?  \\\n",
       "0  Gothic, Gothic 2 (including Night of the Raven...   \n",
       "1  Gothic, Gothic 2 (including Night of the Raven...   \n",
       "2  Gothic, Gothic 2 (including Night of the Raven...   \n",
       "3  Gothic, Gothic 2 (including Night of the Raven...   \n",
       "4  Gothic, Gothic 2 (including Night of the Raven...   \n",
       "\n",
       "  Which of these other games/game series have you played?  \\\n",
       "0  Elder Scrolls, The Witcher, Risen, ArcaniA, Fa...        \n",
       "1  Elder Scrolls, The Witcher, Mount & Blade, Kin...        \n",
       "2  Elder Scrolls, The Witcher, Kingdom Come, Rise...        \n",
       "3  Elder Scrolls, The Witcher, Kingdom Come, ELEX...        \n",
       "4    The Witcher, Kingdom Come, ELEX, Risen, Fallout        \n",
       "\n",
       "           What are your favorite genres?  \\\n",
       "0          RPG, Turn basted strategy, RTS   \n",
       "1     RPG, MMO, Action/Shooters, Strategy   \n",
       "2                   RPG, Action Adventure   \n",
       "3                                     RPG   \n",
       "4  RPG, Action Adventure, Adventure Games   \n",
       "\n",
       "  On which platforms do you play games?  \\\n",
       "0                                    PC   \n",
       "1                          PC, Consoles   \n",
       "2                          PC, Consoles   \n",
       "3                          PC, Consoles   \n",
       "4                            PC, Phones   \n",
       "\n",
       "  How did you play Gothic Playable Teaser?  \\\n",
       "0                           Keyboard/Mouse   \n",
       "1                           Keyboard/Mouse   \n",
       "2                                  Gamepad   \n",
       "3                           Keyboard/Mouse   \n",
       "4                           Keyboard/Mouse   \n",
       "\n",
       "  Have you finished Gothic Playable Teaser?  \\\n",
       "0                                       Yes   \n",
       "1                                       Yes   \n",
       "2                                       Yes   \n",
       "3                                       Yes   \n",
       "4                                       Yes   \n",
       "\n",
       "   Please rate the visuals in the Gothic Playable Teaser  \\\n",
       "0                                                 10       \n",
       "1                                                  8       \n",
       "2                                                  9       \n",
       "3                                                  5       \n",
       "4                                                  4       \n",
       "\n",
       "   Please rate the animations in the Gothic Playable Teaser  \\\n",
       "0                                                  8          \n",
       "1                                                  9          \n",
       "2                                                  9          \n",
       "3                                                  4          \n",
       "4                                                  5          \n",
       "\n",
       "   Please rate the sound in the Gothic Playable Teaser  \\\n",
       "0                                                  3     \n",
       "1                                                  4     \n",
       "2                                                  4     \n",
       "3                                                  5     \n",
       "4                                                  5     \n",
       "\n",
       "   Please rate the music in the Gothic Playable Teaser  \\\n",
       "0                                                  4     \n",
       "1                                                  5     \n",
       "2                                                  4     \n",
       "3                                                  5     \n",
       "4                                                  5     \n",
       "\n",
       "   Please rate the controls in the Gothic Playable Teaser  \\\n",
       "0                                                  3        \n",
       "1                                                  3        \n",
       "2                                                  4        \n",
       "3                                                  4        \n",
       "4                                                  3        \n",
       "\n",
       "   Please rate the combat system in the Gothic Playable Teaser  \\\n",
       "0                                                  4             \n",
       "1                                                  2             \n",
       "2                                                  4             \n",
       "3                                                  5             \n",
       "4                                                  2             \n",
       "\n",
       "  How did you like the approach to re-interpret the plot?  \\\n",
       "0                                    It was spot on!        \n",
       "1                               Didnt like it at all        \n",
       "2                                    It was spot on!        \n",
       "3                                    It was spot on!        \n",
       "4                                    It was spot on!        \n",
       "\n",
       "  What do you like to see as next Gothic game?  \\\n",
       "0                                Gothic Sequel   \n",
       "1                                Gothic Sequel   \n",
       "2                             Gothic Remake(s)   \n",
       "3                             Gothic Remake(s)   \n",
       "4                    Gothic Episodic Spin-Offs   \n",
       "\n",
       "  Would you call yourself a diehard Gothic fan?  \\\n",
       "0                                            No   \n",
       "1                                            No   \n",
       "2                                            No   \n",
       "3                                           Yes   \n",
       "4                                           Yes   \n",
       "\n",
       "                 What was your favorite Gothic game?  \\\n",
       "0  Gothic, Gothic 2 (with or without Night of the...   \n",
       "1                                           Gothic 3   \n",
       "2                                             Gothic   \n",
       "3      Gothic 2 (with or without Night of the Raven)   \n",
       "4      Gothic 2 (with or without Night of the Raven)   \n",
       "\n",
       "   Please rate the English VO in the Gothic Playable Teaser  \\\n",
       "0                                                  4          \n",
       "1                                                  4          \n",
       "2                                                  4          \n",
       "3                                                  3          \n",
       "4                                                  3          \n",
       "\n",
       "  What overall score would you give the Gothic Playable Teaser?  \\\n",
       "0                                                 85              \n",
       "1                                                 80              \n",
       "2                                                 80              \n",
       "3                                                 80              \n",
       "4                                                 85              \n",
       "\n",
       "  Continue development?  \\\n",
       "0                   Yes   \n",
       "1                   Yes   \n",
       "2                   Yes   \n",
       "3                   Yes   \n",
       "4                   Yes   \n",
       "\n",
       "   Please rate the user interface in the Gothic Playable Teaser  \n",
       "0                                                NaN             \n",
       "1                                                NaN             \n",
       "2                                                NaN             \n",
       "3                                                5.0             \n",
       "4                                                4.0             "
      ]
     },
     "execution_count": 9,
     "metadata": {},
     "output_type": "execute_result"
    }
   ],
   "source": [
    "df_wrk.head()"
   ]
  },
  {
   "cell_type": "markdown",
   "metadata": {},
   "source": [
    "Для сравнения и нижнюю часть"
   ]
  },
  {
   "cell_type": "code",
   "execution_count": 10,
   "metadata": {},
   "outputs": [
    {
     "data": {
      "text/html": [
       "<div>\n",
       "<style scoped>\n",
       "    .dataframe tbody tr th:only-of-type {\n",
       "        vertical-align: middle;\n",
       "    }\n",
       "\n",
       "    .dataframe tbody tr th {\n",
       "        vertical-align: top;\n",
       "    }\n",
       "\n",
       "    .dataframe thead th {\n",
       "        text-align: right;\n",
       "    }\n",
       "</style>\n",
       "<table border=\"1\" class=\"dataframe\">\n",
       "  <thead>\n",
       "    <tr style=\"text-align: right;\">\n",
       "      <th></th>\n",
       "      <th>Timestamp</th>\n",
       "      <th>What is your age?</th>\n",
       "      <th>What type of gamer do you consider yourself?</th>\n",
       "      <th>What Gothic games have you played?</th>\n",
       "      <th>Which of these other games/game series have you played?</th>\n",
       "      <th>What are your favorite genres?</th>\n",
       "      <th>On which platforms do you play games?</th>\n",
       "      <th>How did you play Gothic Playable Teaser?</th>\n",
       "      <th>Have you finished Gothic Playable Teaser?</th>\n",
       "      <th>Please rate the visuals in the Gothic Playable Teaser</th>\n",
       "      <th>Please rate the animations in the Gothic Playable Teaser</th>\n",
       "      <th>Please rate the sound in the Gothic Playable Teaser</th>\n",
       "      <th>Please rate the music in the Gothic Playable Teaser</th>\n",
       "      <th>Please rate the controls in the Gothic Playable Teaser</th>\n",
       "      <th>Please rate the combat system in the Gothic Playable Teaser</th>\n",
       "      <th>How did you like the approach to re-interpret the plot?</th>\n",
       "      <th>What do you like to see as next Gothic game?</th>\n",
       "      <th>Would you call yourself a diehard Gothic fan?</th>\n",
       "      <th>What was your favorite Gothic game?</th>\n",
       "      <th>Please rate the English VO in the Gothic Playable Teaser</th>\n",
       "      <th>What overall score would you give the Gothic Playable Teaser?</th>\n",
       "      <th>Continue development?</th>\n",
       "      <th>Please rate the user interface in the Gothic Playable Teaser</th>\n",
       "    </tr>\n",
       "  </thead>\n",
       "  <tbody>\n",
       "    <tr>\n",
       "      <th>43109</th>\n",
       "      <td>2020-02-16 22:26:58.674</td>\n",
       "      <td>17-21</td>\n",
       "      <td>4.0</td>\n",
       "      <td>Gothic, Gothic 2 (including Night of the Raven...</td>\n",
       "      <td>Elder Scrolls, The Witcher, Risen, ArcaniA, Ba...</td>\n",
       "      <td>RPG, Grand Strategy</td>\n",
       "      <td>PC</td>\n",
       "      <td>Gamepad</td>\n",
       "      <td>Yes</td>\n",
       "      <td>2</td>\n",
       "      <td>3</td>\n",
       "      <td>4</td>\n",
       "      <td>3</td>\n",
       "      <td>4</td>\n",
       "      <td>4</td>\n",
       "      <td>Was ok but could be better</td>\n",
       "      <td>Gothic Prequel</td>\n",
       "      <td>Yes</td>\n",
       "      <td>Gothic 2 (with or without Night of the Raven)</td>\n",
       "      <td>3</td>\n",
       "      <td>75</td>\n",
       "      <td>Yes</td>\n",
       "      <td>4.0</td>\n",
       "    </tr>\n",
       "    <tr>\n",
       "      <th>43110</th>\n",
       "      <td>2020-02-16 22:29:57.792</td>\n",
       "      <td>28-35</td>\n",
       "      <td>3.0</td>\n",
       "      <td>Gothic, Gothic 2 (including Night of the Raven...</td>\n",
       "      <td>Elder Scrolls, The Witcher, Mount &amp; Blade, Kin...</td>\n",
       "      <td>RPG, MMO</td>\n",
       "      <td>PC</td>\n",
       "      <td>Keyboard/Mouse</td>\n",
       "      <td>Yes</td>\n",
       "      <td>5</td>\n",
       "      <td>4</td>\n",
       "      <td>5</td>\n",
       "      <td>5</td>\n",
       "      <td>4</td>\n",
       "      <td>5</td>\n",
       "      <td>It was spot on!</td>\n",
       "      <td>Gothic Remake(s)</td>\n",
       "      <td>Yes</td>\n",
       "      <td>Gothic 2 (with or without Night of the Raven)</td>\n",
       "      <td>3</td>\n",
       "      <td>90</td>\n",
       "      <td>Yes</td>\n",
       "      <td>4.0</td>\n",
       "    </tr>\n",
       "    <tr>\n",
       "      <th>43111</th>\n",
       "      <td>2020-02-16 22:48:39.786</td>\n",
       "      <td>36-42</td>\n",
       "      <td>5.0</td>\n",
       "      <td>Gothic, Gothic 2 (including Night of the Raven...</td>\n",
       "      <td>Elder Scrolls, The Witcher, Risen, Fallout</td>\n",
       "      <td>RPG, Action Adventure</td>\n",
       "      <td>PC</td>\n",
       "      <td>Gamepad</td>\n",
       "      <td>Yes</td>\n",
       "      <td>3</td>\n",
       "      <td>4</td>\n",
       "      <td>5</td>\n",
       "      <td>5</td>\n",
       "      <td>3</td>\n",
       "      <td>5</td>\n",
       "      <td>It was spot on!</td>\n",
       "      <td>Gothic Remake(s)</td>\n",
       "      <td>Yes</td>\n",
       "      <td>Gothic 2 (with or without Night of the Raven)</td>\n",
       "      <td>1</td>\n",
       "      <td>85</td>\n",
       "      <td>Yes</td>\n",
       "      <td>4.0</td>\n",
       "    </tr>\n",
       "    <tr>\n",
       "      <th>43112</th>\n",
       "      <td>2020-02-16 22:49:31.066</td>\n",
       "      <td>28-35</td>\n",
       "      <td>3.0</td>\n",
       "      <td>Gothic</td>\n",
       "      <td>The Witcher</td>\n",
       "      <td>Action Adventure</td>\n",
       "      <td>Consoles</td>\n",
       "      <td>Gamepad</td>\n",
       "      <td>Yes</td>\n",
       "      <td>4</td>\n",
       "      <td>3</td>\n",
       "      <td>4</td>\n",
       "      <td>4</td>\n",
       "      <td>4</td>\n",
       "      <td>3</td>\n",
       "      <td>Was ok but could be better</td>\n",
       "      <td>Gothic Remake(s)</td>\n",
       "      <td>No</td>\n",
       "      <td>Gothic</td>\n",
       "      <td>4</td>\n",
       "      <td>80</td>\n",
       "      <td>Yes</td>\n",
       "      <td>4.0</td>\n",
       "    </tr>\n",
       "    <tr>\n",
       "      <th>43113</th>\n",
       "      <td>2020-02-16 22:54:03.919</td>\n",
       "      <td>17-21</td>\n",
       "      <td>4.0</td>\n",
       "      <td>Gothic, Gothic 2 (including Night of the Raven...</td>\n",
       "      <td>Elder Scrolls, The Witcher, Kingdom Come, ELEX...</td>\n",
       "      <td>RPG</td>\n",
       "      <td>PC</td>\n",
       "      <td>Keyboard/Mouse</td>\n",
       "      <td>No</td>\n",
       "      <td>3</td>\n",
       "      <td>4</td>\n",
       "      <td>4</td>\n",
       "      <td>4</td>\n",
       "      <td>4</td>\n",
       "      <td>4</td>\n",
       "      <td>It was spot on!</td>\n",
       "      <td>Gothic Sequel</td>\n",
       "      <td>Yes</td>\n",
       "      <td>Gothic, Gothic 2 (with or without Night of the...</td>\n",
       "      <td>4</td>\n",
       "      <td>75</td>\n",
       "      <td>Yes</td>\n",
       "      <td>5.0</td>\n",
       "    </tr>\n",
       "  </tbody>\n",
       "</table>\n",
       "</div>"
      ],
      "text/plain": [
       "                    Timestamp What is your age?  \\\n",
       "43109 2020-02-16 22:26:58.674             17-21   \n",
       "43110 2020-02-16 22:29:57.792             28-35   \n",
       "43111 2020-02-16 22:48:39.786             36-42   \n",
       "43112 2020-02-16 22:49:31.066             28-35   \n",
       "43113 2020-02-16 22:54:03.919             17-21   \n",
       "\n",
       "       What type of gamer do you consider yourself?  \\\n",
       "43109                                           4.0   \n",
       "43110                                           3.0   \n",
       "43111                                           5.0   \n",
       "43112                                           3.0   \n",
       "43113                                           4.0   \n",
       "\n",
       "                      What Gothic games have you played?  \\\n",
       "43109  Gothic, Gothic 2 (including Night of the Raven...   \n",
       "43110  Gothic, Gothic 2 (including Night of the Raven...   \n",
       "43111  Gothic, Gothic 2 (including Night of the Raven...   \n",
       "43112                                             Gothic   \n",
       "43113  Gothic, Gothic 2 (including Night of the Raven...   \n",
       "\n",
       "      Which of these other games/game series have you played?  \\\n",
       "43109  Elder Scrolls, The Witcher, Risen, ArcaniA, Ba...        \n",
       "43110  Elder Scrolls, The Witcher, Mount & Blade, Kin...        \n",
       "43111         Elder Scrolls, The Witcher, Risen, Fallout        \n",
       "43112                                        The Witcher        \n",
       "43113  Elder Scrolls, The Witcher, Kingdom Come, ELEX...        \n",
       "\n",
       "      What are your favorite genres? On which platforms do you play games?  \\\n",
       "43109            RPG, Grand Strategy                                    PC   \n",
       "43110                       RPG, MMO                                    PC   \n",
       "43111          RPG, Action Adventure                                    PC   \n",
       "43112               Action Adventure                              Consoles   \n",
       "43113                            RPG                                    PC   \n",
       "\n",
       "      How did you play Gothic Playable Teaser?  \\\n",
       "43109                                  Gamepad   \n",
       "43110                           Keyboard/Mouse   \n",
       "43111                                  Gamepad   \n",
       "43112                                  Gamepad   \n",
       "43113                           Keyboard/Mouse   \n",
       "\n",
       "      Have you finished Gothic Playable Teaser?  \\\n",
       "43109                                       Yes   \n",
       "43110                                       Yes   \n",
       "43111                                       Yes   \n",
       "43112                                       Yes   \n",
       "43113                                        No   \n",
       "\n",
       "       Please rate the visuals in the Gothic Playable Teaser  \\\n",
       "43109                                                  2       \n",
       "43110                                                  5       \n",
       "43111                                                  3       \n",
       "43112                                                  4       \n",
       "43113                                                  3       \n",
       "\n",
       "       Please rate the animations in the Gothic Playable Teaser  \\\n",
       "43109                                                  3          \n",
       "43110                                                  4          \n",
       "43111                                                  4          \n",
       "43112                                                  3          \n",
       "43113                                                  4          \n",
       "\n",
       "       Please rate the sound in the Gothic Playable Teaser  \\\n",
       "43109                                                  4     \n",
       "43110                                                  5     \n",
       "43111                                                  5     \n",
       "43112                                                  4     \n",
       "43113                                                  4     \n",
       "\n",
       "       Please rate the music in the Gothic Playable Teaser  \\\n",
       "43109                                                  3     \n",
       "43110                                                  5     \n",
       "43111                                                  5     \n",
       "43112                                                  4     \n",
       "43113                                                  4     \n",
       "\n",
       "       Please rate the controls in the Gothic Playable Teaser  \\\n",
       "43109                                                  4        \n",
       "43110                                                  4        \n",
       "43111                                                  3        \n",
       "43112                                                  4        \n",
       "43113                                                  4        \n",
       "\n",
       "       Please rate the combat system in the Gothic Playable Teaser  \\\n",
       "43109                                                  4             \n",
       "43110                                                  5             \n",
       "43111                                                  5             \n",
       "43112                                                  3             \n",
       "43113                                                  4             \n",
       "\n",
       "      How did you like the approach to re-interpret the plot?  \\\n",
       "43109                         Was ok but could be better        \n",
       "43110                                    It was spot on!        \n",
       "43111                                    It was spot on!        \n",
       "43112                         Was ok but could be better        \n",
       "43113                                    It was spot on!        \n",
       "\n",
       "      What do you like to see as next Gothic game?  \\\n",
       "43109                               Gothic Prequel   \n",
       "43110                             Gothic Remake(s)   \n",
       "43111                             Gothic Remake(s)   \n",
       "43112                             Gothic Remake(s)   \n",
       "43113                                Gothic Sequel   \n",
       "\n",
       "      Would you call yourself a diehard Gothic fan?  \\\n",
       "43109                                           Yes   \n",
       "43110                                           Yes   \n",
       "43111                                           Yes   \n",
       "43112                                            No   \n",
       "43113                                           Yes   \n",
       "\n",
       "                     What was your favorite Gothic game?  \\\n",
       "43109      Gothic 2 (with or without Night of the Raven)   \n",
       "43110      Gothic 2 (with or without Night of the Raven)   \n",
       "43111      Gothic 2 (with or without Night of the Raven)   \n",
       "43112                                             Gothic   \n",
       "43113  Gothic, Gothic 2 (with or without Night of the...   \n",
       "\n",
       "       Please rate the English VO in the Gothic Playable Teaser  \\\n",
       "43109                                                  3          \n",
       "43110                                                  3          \n",
       "43111                                                  1          \n",
       "43112                                                  4          \n",
       "43113                                                  4          \n",
       "\n",
       "      What overall score would you give the Gothic Playable Teaser?  \\\n",
       "43109                                                 75              \n",
       "43110                                                 90              \n",
       "43111                                                 85              \n",
       "43112                                                 80              \n",
       "43113                                                 75              \n",
       "\n",
       "      Continue development?  \\\n",
       "43109                   Yes   \n",
       "43110                   Yes   \n",
       "43111                   Yes   \n",
       "43112                   Yes   \n",
       "43113                   Yes   \n",
       "\n",
       "       Please rate the user interface in the Gothic Playable Teaser  \n",
       "43109                                                4.0             \n",
       "43110                                                4.0             \n",
       "43111                                                4.0             \n",
       "43112                                                4.0             \n",
       "43113                                                5.0             "
      ]
     },
     "execution_count": 10,
     "metadata": {},
     "output_type": "execute_result"
    }
   ],
   "source": [
    "df_wrk.tail()"
   ]
  },
  {
   "cell_type": "markdown",
   "metadata": {},
   "source": [
    "На первый взгляд расхождений нет, можно начинать анализ."
   ]
  },
  {
   "cell_type": "markdown",
   "metadata": {},
   "source": [
    "<h2>Начало анализа</h2>\n",
    "<p>Как собирались ответы, что за выборка по возрасту, играм, жанрам и платформам.</p>\n",
    "<h3>Получение ответов</h3>\n",
    "<p>Пояснений по вариантам ответов \"К какому типу игроков вы себя относите?\" нет ни в файле с данными, ни в прилагаемой презентации, поэтому игнорирую вопрос и перехожу к остальным вопросам.</p>\n"
   ]
  },
  {
   "cell_type": "code",
   "execution_count": 11,
   "metadata": {},
   "outputs": [
    {
     "name": "stdout",
     "output_type": "stream",
     "text": [
      "Первый ответ получен 2019-11-28 13:55:37.639000, последний - 2020-02-16 22:54:03.919000, на все ответы ушло примерно 80 дней\n"
     ]
    }
   ],
   "source": [
    "print(f\"Первый ответ получен {df_wrk.Timestamp.min()}, последний - {df_wrk.Timestamp.max()}, на все ответы ушло примерно {(df_wrk.Timestamp.max() - df_wrk.Timestamp.min()).days} дней\")"
   ]
  },
  {
   "cell_type": "markdown",
   "metadata": {},
   "source": [
    "Динамика получения ответов"
   ]
  },
  {
   "cell_type": "code",
   "execution_count": 12,
   "metadata": {},
   "outputs": [],
   "source": [
    "survey_dates = [x.date() for x in df_wrk['Timestamp']]"
   ]
  },
  {
   "cell_type": "code",
   "execution_count": 13,
   "metadata": {},
   "outputs": [
    {
     "name": "stderr",
     "output_type": "stream",
     "text": [
      "c:\\Users\\Kulikov\\anaconda3\\envs\\base_da\\Lib\\site-packages\\seaborn\\_oldcore.py:1765: FutureWarning: unique with argument that is not not a Series, Index, ExtensionArray, or np.ndarray is deprecated and will raise in a future version.\n",
      "  order = pd.unique(vector)\n"
     ]
    },
    {
     "data": {
      "image/png": "[encoded data removed]",
      "text/plain": [
       "<Figure size 1500x500 with 1 Axes>"
      ]
     },
     "metadata": {},
     "output_type": "display_data"
    }
   ],
   "source": [
    "fig, ax = plt.subplots(figsize=(15, 5))\n",
    "dates_plot = sns.countplot(x=survey_dates, color='darkgray')\n",
    "dates_plot.set_xticklabels(dates_plot.get_xticklabels(), rotation = 90)\n",
    "sns.despine()"
   ]
  },
  {
   "cell_type": "markdown",
   "metadata": {},
   "source": [
    "Единственный пик получения ответов - с 13 по 18 декабря 2019. Дальше суточное количество ответов не превышало 1000, постепенно снижаясь (с небольшими краткими подъемами)."
   ]
  },
  {
   "cell_type": "markdown",
   "metadata": {},
   "source": [
    "<h3>Возраст выборки</h3>"
   ]
  },
  {
   "cell_type": "code",
   "execution_count": 14,
   "metadata": {},
   "outputs": [
    {
     "data": {
      "text/plain": [
       "What is your age?\n",
       "22-27                  16847\n",
       "28-35                  13611\n",
       "17-21                   7971\n",
       "36-42                   2384\n",
       "12-16                    850\n",
       "43-50                    814\n",
       "50-59                    329\n",
       "60+                      161\n",
       "Dont want to answer      146\n",
       "Name: count, dtype: int64"
      ]
     },
     "execution_count": 14,
     "metadata": {},
     "output_type": "execute_result"
    }
   ],
   "source": [
    "df_wrk['What is your age?'].value_counts()"
   ]
  },
  {
   "cell_type": "markdown",
   "metadata": {},
   "source": [
    "\"Dont want to answer\" и \"Dec 16\" мало относительно всех респондентов и они не несут значимой информации по возрасту (хотя количество ответов Dec 16 вызывает вопросы)."
   ]
  },
  {
   "cell_type": "code",
   "execution_count": 15,
   "metadata": {},
   "outputs": [
    {
     "name": "stdout",
     "output_type": "stream",
     "text": [
      "Применение фильтра удалит 146 из 43114 ответов, т.е. 0.34%\n"
     ]
    }
   ],
   "source": [
    "age_flt  = ['Dec 16', 'Dont want to answer', '']\n",
    "age_len = len(df_wrk['What is your age?'])\n",
    "age_err = len(df_wrk['What is your age?'][~df_wrk['What is your age?'].isin(age_flt)])\n",
    "print(f\"Применение фильтра удалит {age_len - age_err} из {age_len} ответов, т.е. {round(((age_len - age_err) / age_len) * 100, 2)}%\")"
   ]
  },
  {
   "cell_type": "code",
   "execution_count": 16,
   "metadata": {},
   "outputs": [
    {
     "data": {
      "text/plain": [
       "What is your age?\n",
       "12-16      850\n",
       "17-21     7971\n",
       "22-27    16847\n",
       "28-35    13611\n",
       "36-42     2384\n",
       "43-50      814\n",
       "50-59      329\n",
       "60+        161\n",
       "Name: count, dtype: int64"
      ]
     },
     "execution_count": 16,
     "metadata": {},
     "output_type": "execute_result"
    }
   ],
   "source": [
    "ages = df_wrk['What is your age?'][~df_wrk['What is your age?'].isin(age_flt)].value_counts(sort=False)\n",
    "ages.sort_index(ascending=True, inplace=True)\n",
    "ages"
   ]
  },
  {
   "cell_type": "code",
   "execution_count": 17,
   "metadata": {},
   "outputs": [
    {
     "data": {
      "image/png": "[encoded data removed]",
      "text/plain": [
       "<Figure size 640x480 with 1 Axes>"
      ]
     },
     "metadata": {},
     "output_type": "display_data"
    }
   ],
   "source": [
    "plt.style.use('seaborn-v0_8-whitegrid')\n",
    "plt.bar(x=ages.index, height=ages, color='darkgray')\n",
    "plt.grid(axis='x')\n",
    "plt.tight_layout()\n",
    "sns.despine()"
   ]
  },
  {
   "cell_type": "markdown",
   "metadata": {},
   "source": [
    "Самая большая возрастная группа - от 22 до 27 лет, на 2 месте - 28-35 лет, на 3 - 17-21. Остальные существенно меньше."
   ]
  },
  {
   "cell_type": "markdown",
   "metadata": {},
   "source": [
    "<h2>Игровой опыт опрошенных</h2>\n",
    "<h3>Любимые жанры игр</h3>\n",
    "<p>Можно ли сразу показать графиком?</p>"
   ]
  },
  {
   "cell_type": "code",
   "execution_count": 18,
   "metadata": {},
   "outputs": [
    {
     "data": {
      "text/plain": [
       "(1991, 1)"
      ]
     },
     "execution_count": 18,
     "metadata": {},
     "output_type": "execute_result"
    }
   ],
   "source": [
    "len(df_wrk['What are your favorite genres?'].unique()), df_wrk['What are your favorite genres?'].isna().sum()"
   ]
  },
  {
   "cell_type": "markdown",
   "metadata": {},
   "source": [
    "Слишком много вариантов ответов для этого и 1 NA"
   ]
  },
  {
   "cell_type": "code",
   "execution_count": 19,
   "metadata": {},
   "outputs": [],
   "source": [
    "# т.к. NA 1, изменю его на текстовое значение, чтобы не писать ради него исключения\n",
    "df_wrk.loc[df_wrk['What are your favorite genres?'].isna(), 'What are your favorite genres?'] = '_NA'"
   ]
  },
  {
   "cell_type": "code",
   "execution_count": 20,
   "metadata": {},
   "outputs": [
    {
     "data": {
      "text/plain": [
       "[('RPG', 42011),\n",
       " ('Action Adventure', 18890),\n",
       " ('Action/Shooters', 12484),\n",
       " ('MMO', 10648),\n",
       " ('Strategy', 750),\n",
       " ('RTS', 546),\n",
       " ('MOBA', 188),\n",
       " ('strategy', 123),\n",
       " ('Strategie', 79),\n",
       " ('Racing', 66)]"
      ]
     },
     "execution_count": 20,
     "metadata": {},
     "output_type": "execute_result"
    }
   ],
   "source": [
    "genres_counter = Counter()\n",
    "genres_answers = df_wrk['What are your favorite genres?']\n",
    "for el in genres_answers.index:\n",
    "    genres_counter.update([i.strip() for i in genres_answers[el].split(\", \")])\n",
    "genres_counter.most_common(10)"
   ]
  },
  {
   "cell_type": "markdown",
   "metadata": {},
   "source": [
    "Существенное снижение по количеству ответов после стратегий, а вариантов написания \"стратегия\" 3. Исправлю для визуализации, а, т.к. результирующую таблицу буду записывать в отдельный файл, исправлю df_wrk"
   ]
  },
  {
   "cell_type": "code",
   "execution_count": 21,
   "metadata": {},
   "outputs": [],
   "source": [
    "# оптимизировать\n",
    "df_wrk['What are your favorite genres?'] = [el.replace('Strategie', 'Strategy') for el in df_wrk['What are your favorite genres?']]\n",
    "df_wrk['What are your favorite genres?'] = [el.replace('strategy', 'Strategy') for el in df_wrk['What are your favorite genres?']]\n",
    "df_wrk['What are your favorite genres?'] = [el.replace('Strategys', 'Strategy') for el in df_wrk['What are your favorite genres?']]"
   ]
  },
  {
   "cell_type": "code",
   "execution_count": 22,
   "metadata": {},
   "outputs": [
    {
     "data": {
      "text/plain": [
       "[('RPG', 42011),\n",
       " ('Action Adventure', 18890),\n",
       " ('Action/Shooters', 12484),\n",
       " ('MMO', 10648),\n",
       " ('Strategy', 1009),\n",
       " ('RTS', 546),\n",
       " ('MOBA', 188),\n",
       " ('Racing', 66),\n",
       " ('Survival', 64),\n",
       " ('Simulation', 52)]"
      ]
     },
     "execution_count": 22,
     "metadata": {},
     "output_type": "execute_result"
    }
   ],
   "source": [
    "genres_counter = Counter()\n",
    "genres_answers = df_wrk['What are your favorite genres?']\n",
    "for el in genres_answers.index:\n",
    "    genres_counter.update([i.strip() for i in genres_answers[el].split(\", \")])\n",
    "genres_counter.most_common(10)"
   ]
  },
  {
   "cell_type": "code",
   "execution_count": 23,
   "metadata": {},
   "outputs": [
    {
     "data": {
      "image/png": "[encoded data removed]",
      "text/plain": [
       "<Figure size 640x480 with 1 Axes>"
      ]
     },
     "metadata": {},
     "output_type": "display_data"
    }
   ],
   "source": [
    "genres = pd.DataFrame({'genres':[key for key, value in genres_counter.most_common(7)],\n",
    "                       'resps':[value for key, value in genres_counter.most_common(7)]})\n",
    "fig, ax = plt.subplots()\n",
    "fig = sns.barplot(genres.sort_values('resps', ascending=False), y='genres', x='resps', color='darkgray')\n",
    "fig.set(ylabel='', xlabel='')\n",
    "sns.despine()"
   ]
  },
  {
   "cell_type": "markdown",
   "metadata": {},
   "source": [
    "<h3>Опыт в игровых сериях</h3>"
   ]
  },
  {
   "cell_type": "code",
   "execution_count": 24,
   "metadata": {},
   "outputs": [
    {
     "data": {
      "text/plain": [
       "(3,\n",
       " 0     Elder Scrolls, The Witcher, Risen, ArcaniA, Fa...\n",
       " 1     Elder Scrolls, The Witcher, Mount & Blade, Kin...\n",
       " 2     Elder Scrolls, The Witcher, Kingdom Come, Rise...\n",
       " 3     Elder Scrolls, The Witcher, Kingdom Come, ELEX...\n",
       " 4       The Witcher, Kingdom Come, ELEX, Risen, Fallout\n",
       " 5     Elder Scrolls, The Witcher, Kingdom Come, ELEX...\n",
       " 6     Elder Scrolls, The Witcher, Mount & Blade, Kin...\n",
       " 7                            The Witcher, ELEX, ArcaniA\n",
       " 8                    The Witcher, Kingdom Come, Fallout\n",
       " 9     Elder Scrolls, The Witcher, Kingdom Come, ELEX...\n",
       " 10                    The Witcher, ELEX, Risen, Fallout\n",
       " Name: Which of these other games/game series have you played?, dtype: object)"
      ]
     },
     "execution_count": 24,
     "metadata": {},
     "output_type": "execute_result"
    }
   ],
   "source": [
    "df_wrk['Which of these other games/game series have you played?'].isna().sum(), df_wrk['Which of these other games/game series have you played?'][:11]"
   ]
  },
  {
   "cell_type": "markdown",
   "metadata": {},
   "source": [
    "В ответе давалась возможность множественного выбора и есть 3 NA. Снова перед разбиением заменю NA."
   ]
  },
  {
   "cell_type": "code",
   "execution_count": 25,
   "metadata": {},
   "outputs": [],
   "source": [
    "# т.к. NA 1, изменю его на текстовое значение, чтобы не писать ради него исключения\n",
    "df_wrk.loc[df_wrk['Which of these other games/game series have you played?'].isna(), 'Which of these other games/game series have you played?'] = '_NA'"
   ]
  },
  {
   "cell_type": "code",
   "execution_count": 26,
   "metadata": {},
   "outputs": [
    {
     "data": {
      "text/plain": [
       "[('The Witcher', 38992),\n",
       " ('Elder Scrolls', 38590),\n",
       " ('Risen', 34734),\n",
       " ('Fallout', 28382),\n",
       " ('ELEX', 23946),\n",
       " ('ArcaniA', 22356),\n",
       " ('Kingdom Come', 17639),\n",
       " ('Mount & Blade', 17258),\n",
       " ('For Honor', 13178),\n",
       " ('Dark Souls', 561)]"
      ]
     },
     "execution_count": 26,
     "metadata": {},
     "output_type": "execute_result"
    }
   ],
   "source": [
    "games_counter = Counter()\n",
    "games_series = df_wrk['Which of these other games/game series have you played?']\n",
    "for el in games_series.index:\n",
    "    games_counter.update([i.strip() for i in games_series[el].split(\",\")])\n",
    "games_counter.most_common(10)"
   ]
  },
  {
   "cell_type": "markdown",
   "metadata": {},
   "source": [
    "После 'For Honor' идет сильное снижение ниже 600, поэтому для визуализации возьму только те игры, которые упомянули более 600 опрошенными."
   ]
  },
  {
   "cell_type": "code",
   "execution_count": 27,
   "metadata": {},
   "outputs": [],
   "source": [
    "games_played = pd.DataFrame({'games' : [key for key, value in games_counter.most_common(10)],\n",
    "                              'resps' : [value for key, value in games_counter.most_common(10)]})"
   ]
  },
  {
   "cell_type": "code",
   "execution_count": 28,
   "metadata": {},
   "outputs": [
    {
     "data": {
      "image/png": "[encoded data removed]",
      "text/plain": [
       "<Figure size 640x480 with 1 Axes>"
      ]
     },
     "metadata": {},
     "output_type": "display_data"
    }
   ],
   "source": [
    "\n",
    "fig, ax = plt.subplots()\n",
    "fig = sns.barplot(games_played.sort_values('resps', ascending=False), x='resps', y='games', color='darkgray')\n",
    "fig.set(ylabel='', xlabel='')\n",
    "sns.despine()"
   ]
  },
  {
   "cell_type": "markdown",
   "metadata": {},
   "source": [
    "Самые популярные: The Witcher, Elder Scrolls, Risen, Fallout и Elex."
   ]
  },
  {
   "cell_type": "markdown",
   "metadata": {},
   "source": [
    "<h3>Предпочитаемые жанры</h3>\n",
    "Нужны ли преобразования для предпочитаемых жанров?"
   ]
  },
  {
   "cell_type": "markdown",
   "metadata": {},
   "source": [
    "<h3>Игровые платформы</h3>\n",
    "В основном играют на платформе"
   ]
  },
  {
   "cell_type": "code",
   "execution_count": 29,
   "metadata": {},
   "outputs": [
    {
     "data": {
      "image/png": "[encoded data removed]",
      "text/plain": [
       "<Figure size 640x480 with 1 Axes>"
      ]
     },
     "metadata": {},
     "output_type": "display_data"
    }
   ],
   "source": [
    "platforms = df_wrk['On which platforms do you play games?'].value_counts()\n",
    "sns.barplot(y=platforms.index, x=platforms, color='darkgray')\n",
    "sns.despine()"
   ]
  },
  {
   "cell_type": "markdown",
   "metadata": {},
   "source": [
    "Основной контингент - игроки на персональных компьютерах, но т.к. опрос проводился в Steam, результат ожидаемый."
   ]
  },
  {
   "cell_type": "markdown",
   "metadata": {},
   "source": [
    "<h2>Опыт игры в серии Готика</h2>\n",
    "<h3>Хардкорные фанаты</h3>"
   ]
  },
  {
   "cell_type": "code",
   "execution_count": 30,
   "metadata": {},
   "outputs": [
    {
     "data": {
      "image/png": "[encoded data removed]",
      "text/plain": [
       "<Figure size 640x480 with 1 Axes>"
      ]
     },
     "metadata": {},
     "output_type": "display_data"
    }
   ],
   "source": [
    "diehard_fan = df_wrk['Would you call yourself a diehard Gothic fan?'].value_counts()\n",
    "plt.bar(diehard_fan.index, diehard_fan.values, color='darkgray')\n",
    "plt.suptitle('Вы считаете себя хардкорным фанатом Готики?')\n",
    "plt.tight_layout()\n",
    "sns.despine()"
   ]
  },
  {
   "cell_type": "markdown",
   "metadata": {},
   "source": [
    "<h3>В какие части Готики играли</h3>"
   ]
  },
  {
   "cell_type": "code",
   "execution_count": 31,
   "metadata": {},
   "outputs": [
    {
     "data": {
      "text/plain": [
       "1"
      ]
     },
     "execution_count": 31,
     "metadata": {},
     "output_type": "execute_result"
    }
   ],
   "source": [
    "df_wrk['What Gothic games have you played?'].isna().sum()"
   ]
  },
  {
   "cell_type": "code",
   "execution_count": 32,
   "metadata": {},
   "outputs": [
    {
     "data": {
      "text/plain": [
       "What Gothic games have you played?\n",
       "Gothic, Gothic 2 (including Night of the Raven), Gothic 3    36730\n",
       "Gothic, Gothic 2 (including Night of the Raven)               2194\n",
       "Gothic 2 (including Night of the Raven), Gothic 3             1192\n",
       "Gothic 3                                                      1119\n",
       "Gothic                                                        1013\n",
       "Gothic 2 (including Night of the Raven)                        472\n",
       "Gothic, Gothic 3                                               393\n",
       "Name: count, dtype: int64"
      ]
     },
     "execution_count": 32,
     "metadata": {},
     "output_type": "execute_result"
    }
   ],
   "source": [
    "dt = df_wrk['What Gothic games have you played?'].dropna()\n",
    "g_games = dt.value_counts()\n",
    "g_games"
   ]
  },
  {
   "cell_type": "code",
   "execution_count": 33,
   "metadata": {},
   "outputs": [
    {
     "data": {
      "image/png": "[encoded data removed]",
      "text/plain": [
       "<Figure size 640x480 with 1 Axes>"
      ]
     },
     "metadata": {},
     "output_type": "display_data"
    }
   ],
   "source": [
    "fig, ax = plt.subplots()\n",
    "fig = sns.barplot(x=g_games, y=g_games.index, color='darkgray')\n",
    "fig.set(ylabel='', xlabel='')\n",
    "sns.despine()"
   ]
  },
  {
   "cell_type": "markdown",
   "metadata": {},
   "source": [
    "Подавляющее большинство опрошенных играло во все 3 части. \n",
    "<h3>Любимая игра серии</h3>"
   ]
  },
  {
   "cell_type": "code",
   "execution_count": 34,
   "metadata": {},
   "outputs": [
    {
     "data": {
      "text/plain": [
       "What was your favorite Gothic game?\n",
       "Gothic 2 (with or without Night of the Raven)                      18300\n",
       "Gothic, Gothic 2 (with or without Night of the Raven)               9221\n",
       "Gothic                                                              7622\n",
       "Gothic, Gothic 2 (with or without Night of the Raven), Gothic 3     3565\n",
       "Gothic 3                                                            3312\n",
       "Gothic 2 (with or without Night of the Raven), Gothic 3              710\n",
       "Gothic, Gothic 3                                                     383\n",
       "Name: count, dtype: int64"
      ]
     },
     "execution_count": 34,
     "metadata": {},
     "output_type": "execute_result"
    }
   ],
   "source": [
    "fav_game = df_wrk['What was your favorite Gothic game?'].value_counts()\n",
    "fav_game"
   ]
  },
  {
   "cell_type": "code",
   "execution_count": 35,
   "metadata": {},
   "outputs": [
    {
     "data": {
      "image/png": "[encoded data removed]",
      "text/plain": [
       "<Figure size 640x480 with 1 Axes>"
      ]
     },
     "metadata": {},
     "output_type": "display_data"
    }
   ],
   "source": [
    "fig, ax = plt.subplots()\n",
    "fig = sns.barplot(x=fav_game, y=fav_game.index, color='darkgray')\n",
    "fig.set(ylabel='', xlabel='')\n",
    "sns.despine()"
   ]
  },
  {
   "cell_type": "markdown",
   "metadata": {},
   "source": [
    "Также вторая часть оказалась самой предпочитаемой как среди отдельных игр, так и их сочетаний."
   ]
  },
  {
   "cell_type": "markdown",
   "metadata": {},
   "source": [
    "<h2>Оценка опыта игры в тизер Готики</h2>"
   ]
  },
  {
   "cell_type": "code",
   "execution_count": 36,
   "metadata": {},
   "outputs": [
    {
     "name": "stdout",
     "output_type": "stream",
     "text": [
      "Тизер не прошли 16.0% участвовавших в опросе.\n"
     ]
    }
   ],
   "source": [
    "print(f\"Тизер не прошли {round(len(df_wrk['Have you finished Gothic Playable Teaser?'][df_wrk['Have you finished Gothic Playable Teaser?'] == 'No'])/len(df_wrk.index), 2) * 100}% участвовавших в опросе.\")"
   ]
  },
  {
   "cell_type": "code",
   "execution_count": 37,
   "metadata": {},
   "outputs": [
    {
     "data": {
      "image/png": "[encoded data removed]",
      "text/plain": [
       "<Figure size 640x480 with 1 Axes>"
      ]
     },
     "metadata": {},
     "output_type": "display_data"
    }
   ],
   "source": [
    "finished = df_wrk['Have you finished Gothic Playable Teaser?'].value_counts()\n",
    "plt.bar(finished.index, finished.values, color='darkgray')\n",
    "plt.suptitle('Вы прошли тизер?')\n",
    "sns.despine()"
   ]
  },
  {
   "cell_type": "markdown",
   "metadata": {},
   "source": [
    "<h3>Визуал</h3>"
   ]
  },
  {
   "cell_type": "code",
   "execution_count": 38,
   "metadata": {},
   "outputs": [
    {
     "data": {
      "text/plain": [
       "Please rate the visuals in the Gothic Playable Teaser\n",
       "10        1\n",
       "8         1\n",
       "9         1\n",
       "5      8966\n",
       "4     19645\n",
       "3     10434\n",
       "2      3341\n",
       "1       725\n",
       "Name: count, dtype: int64"
      ]
     },
     "execution_count": 38,
     "metadata": {},
     "output_type": "execute_result"
    }
   ],
   "source": [
    "df_wrk['Please rate the visuals in the Gothic Playable Teaser'].value_counts(sort=False)"
   ]
  },
  {
   "cell_type": "markdown",
   "metadata": {},
   "source": [
    "Ответы в 8-10 баллов по 1 респонденту и отсутствие ответов в 6-7 баллов выглядят подозрительно. "
   ]
  },
  {
   "cell_type": "code",
   "execution_count": 39,
   "metadata": {},
   "outputs": [
    {
     "data": {
      "text/html": [
       "<div>\n",
       "<style scoped>\n",
       "    .dataframe tbody tr th:only-of-type {\n",
       "        vertical-align: middle;\n",
       "    }\n",
       "\n",
       "    .dataframe tbody tr th {\n",
       "        vertical-align: top;\n",
       "    }\n",
       "\n",
       "    .dataframe thead th {\n",
       "        text-align: right;\n",
       "    }\n",
       "</style>\n",
       "<table border=\"1\" class=\"dataframe\">\n",
       "  <thead>\n",
       "    <tr style=\"text-align: right;\">\n",
       "      <th></th>\n",
       "      <th>Timestamp</th>\n",
       "      <th>What is your age?</th>\n",
       "      <th>What type of gamer do you consider yourself?</th>\n",
       "      <th>What Gothic games have you played?</th>\n",
       "      <th>Which of these other games/game series have you played?</th>\n",
       "      <th>What are your favorite genres?</th>\n",
       "      <th>On which platforms do you play games?</th>\n",
       "      <th>How did you play Gothic Playable Teaser?</th>\n",
       "      <th>Have you finished Gothic Playable Teaser?</th>\n",
       "      <th>Please rate the visuals in the Gothic Playable Teaser</th>\n",
       "      <th>Please rate the animations in the Gothic Playable Teaser</th>\n",
       "      <th>Please rate the sound in the Gothic Playable Teaser</th>\n",
       "      <th>Please rate the music in the Gothic Playable Teaser</th>\n",
       "      <th>Please rate the controls in the Gothic Playable Teaser</th>\n",
       "      <th>Please rate the combat system in the Gothic Playable Teaser</th>\n",
       "      <th>How did you like the approach to re-interpret the plot?</th>\n",
       "      <th>What do you like to see as next Gothic game?</th>\n",
       "      <th>Would you call yourself a diehard Gothic fan?</th>\n",
       "      <th>What was your favorite Gothic game?</th>\n",
       "      <th>Please rate the English VO in the Gothic Playable Teaser</th>\n",
       "      <th>What overall score would you give the Gothic Playable Teaser?</th>\n",
       "      <th>Continue development?</th>\n",
       "      <th>Please rate the user interface in the Gothic Playable Teaser</th>\n",
       "    </tr>\n",
       "  </thead>\n",
       "  <tbody>\n",
       "    <tr>\n",
       "      <th>0</th>\n",
       "      <td>2019-11-28 13:55:37.639</td>\n",
       "      <td>36-42</td>\n",
       "      <td>5.0</td>\n",
       "      <td>Gothic, Gothic 2 (including Night of the Raven...</td>\n",
       "      <td>Elder Scrolls, The Witcher, Risen, ArcaniA, Fa...</td>\n",
       "      <td>RPG, Turn basted Strategy, RTS</td>\n",
       "      <td>PC</td>\n",
       "      <td>Keyboard/Mouse</td>\n",
       "      <td>Yes</td>\n",
       "      <td>10</td>\n",
       "      <td>8</td>\n",
       "      <td>3</td>\n",
       "      <td>4</td>\n",
       "      <td>3</td>\n",
       "      <td>4</td>\n",
       "      <td>It was spot on!</td>\n",
       "      <td>Gothic Sequel</td>\n",
       "      <td>No</td>\n",
       "      <td>Gothic, Gothic 2 (with or without Night of the...</td>\n",
       "      <td>4</td>\n",
       "      <td>85</td>\n",
       "      <td>Yes</td>\n",
       "      <td>NaN</td>\n",
       "    </tr>\n",
       "    <tr>\n",
       "      <th>1</th>\n",
       "      <td>2019-11-28 14:06:46.056</td>\n",
       "      <td>36-42</td>\n",
       "      <td>4.0</td>\n",
       "      <td>Gothic, Gothic 2 (including Night of the Raven...</td>\n",
       "      <td>Elder Scrolls, The Witcher, Mount &amp; Blade, Kin...</td>\n",
       "      <td>RPG, MMO, Action/Shooters, Strategy</td>\n",
       "      <td>PC, Consoles</td>\n",
       "      <td>Keyboard/Mouse</td>\n",
       "      <td>Yes</td>\n",
       "      <td>8</td>\n",
       "      <td>9</td>\n",
       "      <td>4</td>\n",
       "      <td>5</td>\n",
       "      <td>3</td>\n",
       "      <td>2</td>\n",
       "      <td>Didnt like it at all</td>\n",
       "      <td>Gothic Sequel</td>\n",
       "      <td>No</td>\n",
       "      <td>Gothic 3</td>\n",
       "      <td>4</td>\n",
       "      <td>80</td>\n",
       "      <td>Yes</td>\n",
       "      <td>NaN</td>\n",
       "    </tr>\n",
       "    <tr>\n",
       "      <th>2</th>\n",
       "      <td>2019-12-02 18:18:52.172</td>\n",
       "      <td>36-42</td>\n",
       "      <td>4.0</td>\n",
       "      <td>Gothic, Gothic 2 (including Night of the Raven...</td>\n",
       "      <td>Elder Scrolls, The Witcher, Kingdom Come, Rise...</td>\n",
       "      <td>RPG, Action Adventure</td>\n",
       "      <td>PC, Consoles</td>\n",
       "      <td>Gamepad</td>\n",
       "      <td>Yes</td>\n",
       "      <td>9</td>\n",
       "      <td>9</td>\n",
       "      <td>4</td>\n",
       "      <td>4</td>\n",
       "      <td>4</td>\n",
       "      <td>4</td>\n",
       "      <td>It was spot on!</td>\n",
       "      <td>Gothic Remake(s)</td>\n",
       "      <td>No</td>\n",
       "      <td>Gothic</td>\n",
       "      <td>4</td>\n",
       "      <td>80</td>\n",
       "      <td>Yes</td>\n",
       "      <td>NaN</td>\n",
       "    </tr>\n",
       "  </tbody>\n",
       "</table>\n",
       "</div>"
      ],
      "text/plain": [
       "                Timestamp What is your age?  \\\n",
       "0 2019-11-28 13:55:37.639             36-42   \n",
       "1 2019-11-28 14:06:46.056             36-42   \n",
       "2 2019-12-02 18:18:52.172             36-42   \n",
       "\n",
       "   What type of gamer do you consider yourself?  \\\n",
       "0                                           5.0   \n",
       "1                                           4.0   \n",
       "2                                           4.0   \n",
       "\n",
       "                  What Gothic games have you played?  \\\n",
       "0  Gothic, Gothic 2 (including Night of the Raven...   \n",
       "1  Gothic, Gothic 2 (including Night of the Raven...   \n",
       "2  Gothic, Gothic 2 (including Night of the Raven...   \n",
       "\n",
       "  Which of these other games/game series have you played?  \\\n",
       "0  Elder Scrolls, The Witcher, Risen, ArcaniA, Fa...        \n",
       "1  Elder Scrolls, The Witcher, Mount & Blade, Kin...        \n",
       "2  Elder Scrolls, The Witcher, Kingdom Come, Rise...        \n",
       "\n",
       "        What are your favorite genres? On which platforms do you play games?  \\\n",
       "0       RPG, Turn basted Strategy, RTS                                    PC   \n",
       "1  RPG, MMO, Action/Shooters, Strategy                          PC, Consoles   \n",
       "2                RPG, Action Adventure                          PC, Consoles   \n",
       "\n",
       "  How did you play Gothic Playable Teaser?  \\\n",
       "0                           Keyboard/Mouse   \n",
       "1                           Keyboard/Mouse   \n",
       "2                                  Gamepad   \n",
       "\n",
       "  Have you finished Gothic Playable Teaser?  \\\n",
       "0                                       Yes   \n",
       "1                                       Yes   \n",
       "2                                       Yes   \n",
       "\n",
       "   Please rate the visuals in the Gothic Playable Teaser  \\\n",
       "0                                                 10       \n",
       "1                                                  8       \n",
       "2                                                  9       \n",
       "\n",
       "   Please rate the animations in the Gothic Playable Teaser  \\\n",
       "0                                                  8          \n",
       "1                                                  9          \n",
       "2                                                  9          \n",
       "\n",
       "   Please rate the sound in the Gothic Playable Teaser  \\\n",
       "0                                                  3     \n",
       "1                                                  4     \n",
       "2                                                  4     \n",
       "\n",
       "   Please rate the music in the Gothic Playable Teaser  \\\n",
       "0                                                  4     \n",
       "1                                                  5     \n",
       "2                                                  4     \n",
       "\n",
       "   Please rate the controls in the Gothic Playable Teaser  \\\n",
       "0                                                  3        \n",
       "1                                                  3        \n",
       "2                                                  4        \n",
       "\n",
       "   Please rate the combat system in the Gothic Playable Teaser  \\\n",
       "0                                                  4             \n",
       "1                                                  2             \n",
       "2                                                  4             \n",
       "\n",
       "  How did you like the approach to re-interpret the plot?  \\\n",
       "0                                    It was spot on!        \n",
       "1                               Didnt like it at all        \n",
       "2                                    It was spot on!        \n",
       "\n",
       "  What do you like to see as next Gothic game?  \\\n",
       "0                                Gothic Sequel   \n",
       "1                                Gothic Sequel   \n",
       "2                             Gothic Remake(s)   \n",
       "\n",
       "  Would you call yourself a diehard Gothic fan?  \\\n",
       "0                                            No   \n",
       "1                                            No   \n",
       "2                                            No   \n",
       "\n",
       "                 What was your favorite Gothic game?  \\\n",
       "0  Gothic, Gothic 2 (with or without Night of the...   \n",
       "1                                           Gothic 3   \n",
       "2                                             Gothic   \n",
       "\n",
       "   Please rate the English VO in the Gothic Playable Teaser  \\\n",
       "0                                                  4          \n",
       "1                                                  4          \n",
       "2                                                  4          \n",
       "\n",
       "  What overall score would you give the Gothic Playable Teaser?  \\\n",
       "0                                                 85              \n",
       "1                                                 80              \n",
       "2                                                 80              \n",
       "\n",
       "  Continue development?  \\\n",
       "0                   Yes   \n",
       "1                   Yes   \n",
       "2                   Yes   \n",
       "\n",
       "   Please rate the user interface in the Gothic Playable Teaser  \n",
       "0                                                NaN             \n",
       "1                                                NaN             \n",
       "2                                                NaN             "
      ]
     },
     "execution_count": 39,
     "metadata": {},
     "output_type": "execute_result"
    }
   ],
   "source": [
    "df_wrk[df_wrk['Please rate the visuals in the Gothic Playable Teaser'] > 5]"
   ]
  },
  {
   "cell_type": "markdown",
   "metadata": {},
   "source": [
    "<p>Схожая картина по вопросу оценки анимации</p>"
   ]
  },
  {
   "cell_type": "code",
   "execution_count": 40,
   "metadata": {},
   "outputs": [
    {
     "data": {
      "text/plain": [
       "Please rate the animations in the Gothic Playable Teaser\n",
       "8        1\n",
       "9        2\n",
       "4    16164\n",
       "5     4813\n",
       "3    15200\n",
       "2     5949\n",
       "1      985\n",
       "Name: count, dtype: int64"
      ]
     },
     "execution_count": 40,
     "metadata": {},
     "output_type": "execute_result"
    }
   ],
   "source": [
    "df_wrk['Please rate the animations in the Gothic Playable Teaser'].value_counts(sort=False)"
   ]
  },
  {
   "cell_type": "markdown",
   "metadata": {},
   "source": [
    "<p>Аномальные ответы ответы идут первыми 3 строками таблицы, заполненной от даты начала сбора данных. Предположу, что сначала использовалась 10-балльная шкала, а потом ее изменили на 5-балльную, но ответы остались.</p>\n",
    "<p>Следуя предположению, исключаю ответы первых 3 людей по первым 2 вопросам на оценку</p>"
   ]
  },
  {
   "cell_type": "code",
   "execution_count": 41,
   "metadata": {},
   "outputs": [
    {
     "data": {
      "image/png": "[encoded data removed]",
      "text/plain": [
       "<Figure size 650x480 with 2 Axes>"
      ]
     },
     "metadata": {},
     "output_type": "display_data"
    }
   ],
   "source": [
    "visual = df_wrk['Please rate the visuals in the Gothic Playable Teaser'][3:].value_counts()\n",
    "animation = df_wrk['Please rate the animations in the Gothic Playable Teaser'][3:].value_counts()\n",
    "f, (ax1, ax2) = plt.subplots(1, 2, sharey=True)\n",
    "f.suptitle('Оценка визуальной составляющей')\n",
    "ax1.bar(x=visual.index, height=visual.values, color='darkgray')\n",
    "ax1.set_ylabel('Количество ответов')\n",
    "ax1.set_xlabel('Визуал')\n",
    "ax2.bar(x=animation.index, height=animation.values, color='darkgray')\n",
    "ax2.set_xlabel('Анимация')\n",
    "f.set_figwidth(6.5)\n",
    "plt.tight_layout()\n",
    "sns.despine()"
   ]
  },
  {
   "cell_type": "code",
   "execution_count": 42,
   "metadata": {},
   "outputs": [
    {
     "name": "stdout",
     "output_type": "stream",
     "text": [
      "Средняя оценка визуала 3.76,\n",
      "анимации - 3.41\n"
     ]
    }
   ],
   "source": [
    "print(f\"Средняя оценка визуала {round(df_wrk['Please rate the visuals in the Gothic Playable Teaser'][3:].mean(), 2)},\\nанимации - {round(df_wrk['Please rate the animations in the Gothic Playable Teaser'][3:].mean(), 2)}\")"
   ]
  },
  {
   "cell_type": "markdown",
   "metadata": {},
   "source": [
    "Анимация оценена ниже визуальной составляющей."
   ]
  },
  {
   "cell_type": "markdown",
   "metadata": {},
   "source": [
    "<h3>Аудио</h3>"
   ]
  },
  {
   "cell_type": "code",
   "execution_count": 43,
   "metadata": {},
   "outputs": [
    {
     "data": {
      "image/png": "[encoded data removed]",
      "text/plain": [
       "<Figure size 1000x480 with 3 Axes>"
      ]
     },
     "metadata": {},
     "output_type": "display_data"
    }
   ],
   "source": [
    "sound = df_wrk['Please rate the sound in the Gothic Playable Teaser'].value_counts()\n",
    "music = df_wrk['Please rate the music in the Gothic Playable Teaser'].value_counts()\n",
    "vas = df_wrk['Please rate the English VO in the Gothic Playable Teaser'].value_counts()\n",
    "f, (ax1, ax2, ax3) = plt.subplots(1, 3, sharey=True)\n",
    "f.suptitle('Оценки звука')\n",
    "ax1.bar(x=sound.index, height=sound.values, color='darkgray')\n",
    "ax1.set_ylabel('Количество ответов')\n",
    "ax1.set_xlabel('Звук')\n",
    "ax2.bar(x=music.index, height=music.values, color='darkgray')\n",
    "ax2.set_xlabel('Музыка')\n",
    "ax3.bar(x=vas.index, height=vas.values, color='darkgray')\n",
    "ax3.set_xlabel('Озвучка')\n",
    "f.set_figwidth(10)\n",
    "plt.tight_layout()\n",
    "sns.despine()"
   ]
  },
  {
   "cell_type": "markdown",
   "metadata": {},
   "source": [
    "Ниже оценки у озвучки, звук и музыка понравились больше."
   ]
  },
  {
   "cell_type": "markdown",
   "metadata": {},
   "source": [
    "<h3>Интерфейс</h3>"
   ]
  },
  {
   "cell_type": "code",
   "execution_count": 44,
   "metadata": {},
   "outputs": [
    {
     "data": {
      "image/png": "[encoded data removed]",
      "text/plain": [
       "<Figure size 1000x480 with 3 Axes>"
      ]
     },
     "metadata": {},
     "output_type": "display_data"
    }
   ],
   "source": [
    "controls = df_wrk['Please rate the controls in the Gothic Playable Teaser'].value_counts()\n",
    "combat_system = df_wrk['Please rate the combat system in the Gothic Playable Teaser'].value_counts()\n",
    "ui = df_wrk['Please rate the user interface in the Gothic Playable Teaser'].value_counts()\n",
    "f, (ax1, ax2, ax3) = plt.subplots(1, 3, sharey=True)\n",
    "f.suptitle('Оценка интерфейса')\n",
    "ax1.bar(x=controls.index, height=controls.values, color='darkgray')\n",
    "ax1.set_xlabel('Управление')\n",
    "ax1.set_ylabel('Количество ответов')\n",
    "ax2.bar(x=combat_system.index, height=combat_system.values, color='darkgray')\n",
    "ax2.set_xlabel('Боевка')\n",
    "ax3.bar(x=ui.index, height=ui.values, color='darkgray')\n",
    "ax3.set_xlabel('Интерфейс пользователя')\n",
    "f.set_figwidth(10)\n",
    "plt.tight_layout()\n",
    "sns.despine()"
   ]
  },
  {
   "cell_type": "markdown",
   "metadata": {},
   "source": [
    "Управление в бою - первый по-настоящему \"проблемный\" момент по сравнению со всеми остальными вопросами, но около 8 т. опрошенных не довольны управлением и интерфейсом."
   ]
  },
  {
   "cell_type": "code",
   "execution_count": 45,
   "metadata": {},
   "outputs": [
    {
     "name": "stdout",
     "output_type": "stream",
     "text": [
      "Средние рейтинги по вопросам:\n",
      "Управление - 3.27,\n",
      "Боевка - 3.02,\n",
      "UI - 3.43\n"
     ]
    }
   ],
   "source": [
    "print(f\"Средние рейтинги по вопросам:\\nУправление - {round(df_wrk['Please rate the controls in the Gothic Playable Teaser'].mean(), 2)},\\nБоевка - {round(df_wrk['Please rate the combat system in the Gothic Playable Teaser'].mean(),2)},\\nUI - {round(df_wrk['Please rate the user interface in the Gothic Playable Teaser'].mean(),2)}\")"
   ]
  },
  {
   "cell_type": "markdown",
   "metadata": {},
   "source": [
    "<h3>Общая оценка тизера</h3>"
   ]
  },
  {
   "cell_type": "code",
   "execution_count": 46,
   "metadata": {},
   "outputs": [
    {
     "data": {
      "text/plain": [
       "Counter({80: 6774,\n",
       "         75: 6626,\n",
       "         70: 5544,\n",
       "         85: 5255,\n",
       "         60: 4407,\n",
       "         '90+': 3399,\n",
       "         90: 2869,\n",
       "         50: 2359,\n",
       "         40: 1588,\n",
       "         'Below 30': 674,\n",
       "         30: 599,\n",
       "         '60, 70': 463,\n",
       "         '75, 80': 436,\n",
       "         '80, 85': 403,\n",
       "         '70, 75': 340,\n",
       "         '85, 90': 292,\n",
       "         '50, 60': 230,\n",
       "         '90, 90+': 111,\n",
       "         '40, 50': 99,\n",
       "         '70, 75, 80': 83,\n",
       "         '75, 80, 85': 73,\n",
       "         '30, 40': 58,\n",
       "         '80, 85, 90': 48,\n",
       "         '60, 70, 75': 47,\n",
       "         '85, 90, 90+': 32,\n",
       "         '50, 60, 70': 28,\n",
       "         '70, 80': 19,\n",
       "         '40, 50, 60': 18,\n",
       "         '75, 85': 17,\n",
       "         'Below 30, 30': 16,\n",
       "         '60, 75': 16,\n",
       "         '80, 85, 90, 90+': 12,\n",
       "         'Below 30, 30, 40': 11,\n",
       "         '75, 80, 85, 90': 9,\n",
       "         '70, 75, 80, 85': 9,\n",
       "         '80, 90': 9,\n",
       "         'Below 30, 30, 40, 50, 60, 70, 75, 80, 85, 90, 90+': 8,\n",
       "         '85, 90+': 8,\n",
       "         '30, 40, 50': 6,\n",
       "         '40, 60': 6,\n",
       "         '50, 60, 70, 75': 6,\n",
       "         'Below 30, 70': 5,\n",
       "         '70, 85': 5,\n",
       "         '80, 90+': 5,\n",
       "         '30, 40, 50, 60': 5,\n",
       "         '60, 70, 75, 80': 4,\n",
       "         '50, 90+': 4,\n",
       "         '75, 80, 85, 90, 90+': 4,\n",
       "         '60, 80': 3,\n",
       "         '50, 70': 3,\n",
       "         'Below 30, 40': 3,\n",
       "         'Below 30, 90+': 3,\n",
       "         '50, 60, 70, 75, 80': 3,\n",
       "         '50, 75': 3,\n",
       "         '40, 85': 3,\n",
       "         'Below 30, 30, 40, 50': 2,\n",
       "         'Below 30, 75': 2,\n",
       "         '30, 90': 2,\n",
       "         'Below 30, 85': 2,\n",
       "         '60, 70, 75, 80, 85': 2,\n",
       "         '50, 85': 2,\n",
       "         '50, 80': 2,\n",
       "         'Below 30, 60': 2,\n",
       "         'Below 30, 80': 2,\n",
       "         '30, 60': 2,\n",
       "         '30, 40, 50, 60, 70, 75, 80, 85, 90, 90+': 2,\n",
       "         'Below 30, 30, 90+': 1,\n",
       "         '40, 70, 80': 1,\n",
       "         '40, 50, 60, 70': 1,\n",
       "         'Below 30, 85, 90+': 1,\n",
       "         '30, 85': 1,\n",
       "         '70, 80, 90+': 1,\n",
       "         '40, 50, 60, 85': 1,\n",
       "         'Below 30, 60, 70': 1,\n",
       "         'Below 30, 50': 1,\n",
       "         '30, 50': 1,\n",
       "         '30, 80': 1,\n",
       "         '60, 75, 80': 1,\n",
       "         'Below 30, 30, 50': 1,\n",
       "         '75, 90, 90+': 1,\n",
       "         '75, 80, 90+': 1,\n",
       "         'Below 30, 40, 50': 1,\n",
       "         '60, 85': 1,\n",
       "         '30, 75, 85': 1,\n",
       "         '60, 80, 85, 90': 1,\n",
       "         'Below 30, 30, 40, 50, 60, 70, 75, 80, 85': 1,\n",
       "         '70, 90+': 1,\n",
       "         'Ниже 30': 1,\n",
       "         '50, 60, 70, 75, 80, 85': 1,\n",
       "         '70, 90': 1,\n",
       "         '60, 90+': 1,\n",
       "         '30, 90+': 1,\n",
       "         '70, 75, 80, 85, 90': 1,\n",
       "         'Below 30, 30, 40, 50, 60, 70': 1,\n",
       "         '40, 90+': 1,\n",
       "         '80, 85, 90+': 1,\n",
       "         'Below 30, 30, 40, 50, 60, 70, 75, 80, 85, 90': 1,\n",
       "         '75, 85, 90': 1})"
      ]
     },
     "execution_count": 46,
     "metadata": {},
     "output_type": "execute_result"
    }
   ],
   "source": [
    "score_counter = Counter(df_wrk['What overall score would you give the Gothic Playable Teaser?'])\n",
    "score_counter"
   ]
  },
  {
   "cell_type": "markdown",
   "metadata": {},
   "source": [
    "<p>Похоже, что не настроили ограничения ответа - много \"грязных\" ответов. Вижу 3 варианта работы:</p>\n",
    "<ul><li>удалить все значения длиной больше 2 символов</li>\n",
    "<li>заменить 0+ на 5 и повторить удаление всего больше 2 символо</li>\n",
    "<li>заменить below n на n-1, по ответам с несколькими числовыми значениями рассчитать медиану.</li></ul>\n",
    "<p>Чтобы дальше сравнить все 3 варианта между собой и выбрать наиболее подходящий, сохраню как 3 разных объекта</p>\n"
   ]
  },
  {
   "cell_type": "code",
   "execution_count": 47,
   "metadata": {},
   "outputs": [
    {
     "ename": "TypeError",
     "evalue": "object of type 'int' has no len()",
     "output_type": "error",
     "traceback": [
      "\u001b[1;31m---------------------------------------------------------------------------\u001b[0m",
      "\u001b[1;31mTypeError\u001b[0m                                 Traceback (most recent call last)",
      "Cell \u001b[1;32mIn[47], line 2\u001b[0m\n\u001b[0;32m      1\u001b[0m scores \u001b[38;5;241m=\u001b[39m df_wrk[\u001b[38;5;124m'\u001b[39m\u001b[38;5;124mWhat overall score would you give the Gothic Playable Teaser?\u001b[39m\u001b[38;5;124m'\u001b[39m]\n\u001b[1;32m----> 2\u001b[0m \u001b[38;5;28mprint\u001b[39m(\u001b[38;5;124mf\u001b[39m\u001b[38;5;124m\"\u001b[39m\u001b[38;5;124mОтветов, в которых больше 2 элементов: \u001b[39m\u001b[38;5;132;01m{\u001b[39;00m\u001b[38;5;28;43msum\u001b[39;49m\u001b[43m(\u001b[49m\u001b[38;5;28;43mlen\u001b[39;49m\u001b[43m(\u001b[49m\u001b[43mi\u001b[49m\u001b[43m)\u001b[49m\u001b[38;5;250;43m \u001b[39;49m\u001b[38;5;241;43m>\u001b[39;49m\u001b[38;5;250;43m \u001b[39;49m\u001b[38;5;241;43m2\u001b[39;49m\u001b[38;5;250;43m \u001b[39;49m\u001b[38;5;28;43;01mfor\u001b[39;49;00m\u001b[38;5;250;43m \u001b[39;49m\u001b[43mi\u001b[49m\u001b[38;5;250;43m \u001b[39;49m\u001b[38;5;129;43;01min\u001b[39;49;00m\u001b[38;5;250;43m \u001b[39;49m\u001b[43mscores\u001b[49m\u001b[43m)\u001b[49m\u001b[38;5;132;01m}\u001b[39;00m\u001b[38;5;130;01m\\n\u001b[39;00m\u001b[38;5;124mИзбавиться от них - удалить \u001b[39m\u001b[38;5;132;01m{\u001b[39;00m\u001b[38;5;28mround\u001b[39m((\u001b[38;5;28msum\u001b[39m(\u001b[38;5;28mlen\u001b[39m(i)\u001b[38;5;250m \u001b[39m\u001b[38;5;241m>\u001b[39m\u001b[38;5;250m \u001b[39m\u001b[38;5;241m2\u001b[39m\u001b[38;5;250m \u001b[39m\u001b[38;5;28;01mfor\u001b[39;00m\u001b[38;5;250m \u001b[39mi\u001b[38;5;250m \u001b[39m\u001b[38;5;129;01min\u001b[39;00m\u001b[38;5;250m \u001b[39mscores)\u001b[38;5;241m/\u001b[39m\u001b[38;5;28mlen\u001b[39m(df_wrk))\u001b[38;5;241m*\u001b[39m\u001b[38;5;241m100\u001b[39m,\u001b[38;5;250m \u001b[39m\u001b[38;5;241m2\u001b[39m)\u001b[38;5;132;01m}\u001b[39;00m\u001b[38;5;124m% из \u001b[39m\u001b[38;5;132;01m{\u001b[39;00m\u001b[38;5;28mlen\u001b[39m(scores)\u001b[38;5;132;01m}\u001b[39;00m\u001b[38;5;124m.\u001b[39m\u001b[38;5;124m\"\u001b[39m)\n",
      "Cell \u001b[1;32mIn[47], line 2\u001b[0m, in \u001b[0;36m<genexpr>\u001b[1;34m(.0)\u001b[0m\n\u001b[0;32m      1\u001b[0m scores \u001b[38;5;241m=\u001b[39m df_wrk[\u001b[38;5;124m'\u001b[39m\u001b[38;5;124mWhat overall score would you give the Gothic Playable Teaser?\u001b[39m\u001b[38;5;124m'\u001b[39m]\n\u001b[1;32m----> 2\u001b[0m \u001b[38;5;28mprint\u001b[39m(\u001b[38;5;124mf\u001b[39m\u001b[38;5;124m\"\u001b[39m\u001b[38;5;124mОтветов, в которых больше 2 элементов: \u001b[39m\u001b[38;5;132;01m{\u001b[39;00m\u001b[38;5;28msum\u001b[39m(\u001b[38;5;28;43mlen\u001b[39;49m\u001b[43m(\u001b[49m\u001b[43mi\u001b[49m\u001b[43m)\u001b[49m\u001b[38;5;250m \u001b[39m\u001b[38;5;241m>\u001b[39m\u001b[38;5;250m \u001b[39m\u001b[38;5;241m2\u001b[39m\u001b[38;5;250m \u001b[39m\u001b[38;5;28;01mfor\u001b[39;00m\u001b[38;5;250m \u001b[39mi\u001b[38;5;250m \u001b[39m\u001b[38;5;129;01min\u001b[39;00m\u001b[38;5;250m \u001b[39mscores)\u001b[38;5;132;01m}\u001b[39;00m\u001b[38;5;130;01m\\n\u001b[39;00m\u001b[38;5;124mИзбавиться от них - удалить \u001b[39m\u001b[38;5;132;01m{\u001b[39;00m\u001b[38;5;28mround\u001b[39m((\u001b[38;5;28msum\u001b[39m(\u001b[38;5;28mlen\u001b[39m(i)\u001b[38;5;250m \u001b[39m\u001b[38;5;241m>\u001b[39m\u001b[38;5;250m \u001b[39m\u001b[38;5;241m2\u001b[39m\u001b[38;5;250m \u001b[39m\u001b[38;5;28;01mfor\u001b[39;00m\u001b[38;5;250m \u001b[39mi\u001b[38;5;250m \u001b[39m\u001b[38;5;129;01min\u001b[39;00m\u001b[38;5;250m \u001b[39mscores)\u001b[38;5;241m/\u001b[39m\u001b[38;5;28mlen\u001b[39m(df_wrk))\u001b[38;5;241m*\u001b[39m\u001b[38;5;241m100\u001b[39m,\u001b[38;5;250m \u001b[39m\u001b[38;5;241m2\u001b[39m)\u001b[38;5;132;01m}\u001b[39;00m\u001b[38;5;124m% из \u001b[39m\u001b[38;5;132;01m{\u001b[39;00m\u001b[38;5;28mlen\u001b[39m(scores)\u001b[38;5;132;01m}\u001b[39;00m\u001b[38;5;124m.\u001b[39m\u001b[38;5;124m\"\u001b[39m)\n",
      "\u001b[1;31mTypeError\u001b[0m: object of type 'int' has no len()"
     ]
    }
   ],
   "source": [
    "scores = df_wrk['What overall score would you give the Gothic Playable Teaser?']\n",
    "print(f\"Ответов, в которых больше 2 элементов: {sum(len(i) > 2 for i in scores)}\\nИзбавиться от них - удалить {round((sum(len(i) > 2 for i in scores)/len(df_wrk))*100, 2)}% из {len(scores)}.\")"
   ]
  },
  {
   "cell_type": "code",
   "execution_count": null,
   "metadata": {},
   "outputs": [
    {
     "data": {
      "text/plain": [
       "count    36021.000\n",
       "mean        72.061\n",
       "std         13.732\n",
       "min         30.000\n",
       "25%         70.000\n",
       "50%         75.000\n",
       "75%         80.000\n",
       "max         90.000\n",
       "dtype: float64"
      ]
     },
     "execution_count": 49,
     "metadata": {},
     "output_type": "execute_result"
    }
   ],
   "source": [
    "scores0 = [int(i) for i in scores if len(i) < 3]\n",
    "scores0_descr = pd.Series(scores0).describe().round(3)\n",
    "scores0_descr"
   ]
  },
  {
   "cell_type": "code",
   "execution_count": null,
   "metadata": {},
   "outputs": [
    {
     "name": "stdout",
     "output_type": "stream",
     "text": [
      "Ответов, в которых осталось больше 2 элементов: 7093\n",
      "Избавиться от них - удалить 16.45% от 43114.\n"
     ]
    }
   ],
   "source": [
    "scores1 = scores.str.replace('0\\+', '1')\n",
    "print(f\"Ответов, в которых осталось больше 2 элементов: {sum(len(i) > 2 for i in scores1)}\\nИзбавиться от них - удалить {round((sum(len(i) > 2 for i in scores1)/len(df_wrk))*100, 2)}% от {len(scores1)}.\")"
   ]
  },
  {
   "cell_type": "code",
   "execution_count": null,
   "metadata": {},
   "outputs": [
    {
     "data": {
      "text/plain": [
       "count    36021.000\n",
       "mean        72.061\n",
       "std         13.732\n",
       "min         30.000\n",
       "25%         70.000\n",
       "50%         75.000\n",
       "75%         80.000\n",
       "max         90.000\n",
       "dtype: float64"
      ]
     },
     "execution_count": 51,
     "metadata": {},
     "output_type": "execute_result"
    }
   ],
   "source": [
    "scores1 = [int(i) for i in scores1 if len(i) < 3]\n",
    "scores1_descr = pd.Series(scores1).describe().round(3)\n",
    "scores1_descr"
   ]
  },
  {
   "cell_type": "markdown",
   "metadata": {},
   "source": [
    "Что можно сделать дальше: заменю 'Below n' на n-1 ('Below 30' -> 25)"
   ]
  },
  {
   "cell_type": "code",
   "execution_count": null,
   "metadata": {},
   "outputs": [
    {
     "name": "stdout",
     "output_type": "stream",
     "text": [
      "Below 30\n",
      "Below 30, 30, 40\n",
      "Below 30, 30, 90+\n",
      "Below 30, 30\n",
      "Below 30, 70\n",
      "Below 30, 30, 40, 50, 60, 70, 75, 80, 85, 90, 90+\n",
      "Below 30, 85, 90+\n",
      "Below 30, 30, 40, 50\n",
      "Below 30, 75\n",
      "Below 30, 40\n",
      "Below 30, 85\n",
      "Below 30, 90+\n",
      "Below 30, 60\n",
      "Below 30, 60, 70\n",
      "Below 30, 50\n",
      "Below 30, 80\n",
      "Below 30, 30, 50\n",
      "Below 30, 40, 50\n",
      "Below 30, 30, 40, 50, 60, 70, 75, 80, 85\n",
      "Below 30, 30, 40, 50, 60, 70\n",
      "Below 30, 30, 40, 50, 60, 70, 75, 80, 85, 90\n"
     ]
    }
   ],
   "source": [
    "for i in scores[scores.str.match('Below')].unique():\n",
    "    print(i)"
   ]
  },
  {
   "cell_type": "markdown",
   "metadata": {},
   "source": [
    "Паттерн один и без отклонений, поэтому использую простой вариант. Ответ '???? 30' встречается 1 раз и похож на 'Below 30', но за отсутствием подтверждения заменю на 50."
   ]
  },
  {
   "cell_type": "code",
   "execution_count": null,
   "metadata": {},
   "outputs": [],
   "source": [
    "scores_tmp = scores.copy()\n",
    "scores_tmp = scores_tmp.str.replace('???? 30', '50').str.replace('0+', '5').str.replace('Below 30', '25')"
   ]
  },
  {
   "cell_type": "code",
   "execution_count": null,
   "metadata": {},
   "outputs": [
    {
     "data": {
      "text/plain": [
       "array(['85', '80', '70', '75', '30', '90, 95', '90', '95', '60', '50',\n",
       "       '85, 90', '80, 85', '25', '80, 85, 90, 95', '30, 40', '40',\n",
       "       '60, 70', '50, 60', '70, 75', '80, 85, 90', '75, 80', '40, 50',\n",
       "       '70, 80', '25, 30, 40', '60, 80', '25, 30, 95', '85, 90, 95',\n",
       "       '40, 50, 60', '25, 30', '75, 80, 85', '25, 70', '50, 60, 70',\n",
       "       '70, 85', '70, 75, 80',\n",
       "       '25, 30, 40, 50, 60, 70, 75, 80, 85, 90, 95', '40, 70, 80',\n",
       "       '40, 50, 60, 70', '25, 85, 95', '30, 40, 50', '75, 80, 85, 90',\n",
       "       '70, 75, 80, 85', '60, 70, 75', '25, 30, 40, 50', '25, 75',\n",
       "       '50, 70', '30, 85', '60, 75', '80, 90', '30, 90', '80, 95',\n",
       "       '30, 40, 50, 60', '85, 95', '25, 40', '25, 85', '25, 95', '75, 85',\n",
       "       '50, 60, 70, 75, 80', '60, 70, 75, 80, 85', '40, 60',\n",
       "       '60, 70, 75, 80', '50, 85', '50, 80', '50, 75', '25, 60',\n",
       "       '70, 80, 95', '40, 50, 60, 85', '25, 60, 70', '25, 50',\n",
       "       '50, 60, 70, 75', '30, 50', '30, 80', '50, 95', '25, 80',\n",
       "       '60, 75, 80', '75, 80, 85, 90, 95', '40, 85', '30, 60',\n",
       "       '25, 30, 50', '30, 40, 50, 60, 70, 75, 80, 85, 90, 95',\n",
       "       '75, 90, 95', '75, 80, 95', '25, 40, 50', '60, 85', '30, 75, 85',\n",
       "       '60, 80, 85, 90', '25, 30, 40, 50, 60, 70, 75, 80, 85', '70, 95',\n",
       "       '50, 60, 70, 75, 80, 85', '70, 90', '60, 95', '30, 95',\n",
       "       '70, 75, 80, 85, 90', '25, 30, 40, 50, 60, 70', '40, 95',\n",
       "       '80, 85, 95', '25, 30, 40, 50, 60, 70, 75, 80, 85, 90',\n",
       "       '75, 85, 90'], dtype=object)"
      ]
     },
     "execution_count": 54,
     "metadata": {},
     "output_type": "execute_result"
    }
   ],
   "source": [
    "scores_tmp.unique()"
   ]
  },
  {
   "cell_type": "code",
   "execution_count": null,
   "metadata": {},
   "outputs": [
    {
     "data": {
      "text/plain": [
       "43114"
      ]
     },
     "execution_count": 55,
     "metadata": {},
     "output_type": "execute_result"
    }
   ],
   "source": [
    "scores2 = []\n",
    "for el in scores_tmp:\n",
    "    if len(el) < 3:\n",
    "        scores2.append(str(el))\n",
    "    else:\n",
    "        el_split = el.split(', ')\n",
    "        to_append = statistics.median([int(num) for num in el_split])\n",
    "        scores2.append(to_append)\n",
    "            \n",
    "len(scores2)  "
   ]
  },
  {
   "cell_type": "code",
   "execution_count": null,
   "metadata": {},
   "outputs": [
    {
     "data": {
      "text/plain": [
       "count    43114.000\n",
       "mean        73.154\n",
       "std         15.664\n",
       "min         25.000\n",
       "25%         70.000\n",
       "50%         75.000\n",
       "75%         85.000\n",
       "max         95.000\n",
       "dtype: float64"
      ]
     },
     "execution_count": 56,
     "metadata": {},
     "output_type": "execute_result"
    }
   ],
   "source": [
    "scores2 = [float(i) for i in scores2]\n",
    "scores2_descr = pd.Series(scores2).describe().round(3)\n",
    "scores2_descr"
   ]
  },
  {
   "cell_type": "markdown",
   "metadata": {},
   "source": [
    "Таблица описательных статистик по 3 вариантам данных общей оценки тизера"
   ]
  },
  {
   "cell_type": "code",
   "execution_count": null,
   "metadata": {},
   "outputs": [
    {
     "data": {
      "text/html": [
       "<div>\n",
       "<style scoped>\n",
       "    .dataframe tbody tr th:only-of-type {\n",
       "        vertical-align: middle;\n",
       "    }\n",
       "\n",
       "    .dataframe tbody tr th {\n",
       "        vertical-align: top;\n",
       "    }\n",
       "\n",
       "    .dataframe thead th {\n",
       "        text-align: right;\n",
       "    }\n",
       "</style>\n",
       "<table border=\"1\" class=\"dataframe\">\n",
       "  <thead>\n",
       "    <tr style=\"text-align: right;\">\n",
       "      <th></th>\n",
       "      <th>scores0</th>\n",
       "      <th>scores1</th>\n",
       "      <th>scores2</th>\n",
       "    </tr>\n",
       "  </thead>\n",
       "  <tbody>\n",
       "    <tr>\n",
       "      <th>count</th>\n",
       "      <td>36021.000</td>\n",
       "      <td>36021.000</td>\n",
       "      <td>43114.000</td>\n",
       "    </tr>\n",
       "    <tr>\n",
       "      <th>mean</th>\n",
       "      <td>72.061</td>\n",
       "      <td>72.061</td>\n",
       "      <td>73.154</td>\n",
       "    </tr>\n",
       "    <tr>\n",
       "      <th>std</th>\n",
       "      <td>13.732</td>\n",
       "      <td>13.732</td>\n",
       "      <td>15.664</td>\n",
       "    </tr>\n",
       "    <tr>\n",
       "      <th>min</th>\n",
       "      <td>30.000</td>\n",
       "      <td>30.000</td>\n",
       "      <td>25.000</td>\n",
       "    </tr>\n",
       "    <tr>\n",
       "      <th>25%</th>\n",
       "      <td>70.000</td>\n",
       "      <td>70.000</td>\n",
       "      <td>70.000</td>\n",
       "    </tr>\n",
       "    <tr>\n",
       "      <th>50%</th>\n",
       "      <td>75.000</td>\n",
       "      <td>75.000</td>\n",
       "      <td>75.000</td>\n",
       "    </tr>\n",
       "    <tr>\n",
       "      <th>75%</th>\n",
       "      <td>80.000</td>\n",
       "      <td>80.000</td>\n",
       "      <td>85.000</td>\n",
       "    </tr>\n",
       "    <tr>\n",
       "      <th>max</th>\n",
       "      <td>90.000</td>\n",
       "      <td>90.000</td>\n",
       "      <td>95.000</td>\n",
       "    </tr>\n",
       "  </tbody>\n",
       "</table>\n",
       "</div>"
      ],
      "text/plain": [
       "         scores0    scores1    scores2\n",
       "count  36021.000  36021.000  43114.000\n",
       "mean      72.061     72.061     73.154\n",
       "std       13.732     13.732     15.664\n",
       "min       30.000     30.000     25.000\n",
       "25%       70.000     70.000     70.000\n",
       "50%       75.000     75.000     75.000\n",
       "75%       80.000     80.000     85.000\n",
       "max       90.000     90.000     95.000"
      ]
     },
     "execution_count": 57,
     "metadata": {},
     "output_type": "execute_result"
    }
   ],
   "source": [
    "\n",
    "scores_table = pd.DataFrame({'scores0': scores0_descr.values,\n",
    "                             'scores1': scores1_descr.values,\n",
    "                             'scores2': scores2_descr.values}, \n",
    "                             index=scores0_descr.index)\n",
    "scores_table"
   ]
  },
  {
   "cell_type": "code",
   "execution_count": null,
   "metadata": {},
   "outputs": [
    {
     "data": {
      "image/png": "[encoded data removed]",
      "text/plain": [
       "<Figure size 1200x480 with 3 Axes>"
      ]
     },
     "metadata": {},
     "output_type": "display_data"
    }
   ],
   "source": [
    "f, (ax1, ax2, ax3) = plt.subplots(1, 3, sharey=True)\n",
    "f.suptitle('Распределение оценок по 3 вариантам данных')\n",
    "ax1.hist(x=scores0, bins=25,  color='darkgray')\n",
    "ax1.set(xlim=(0, 100), xticks=np.arange(0, 100, 10))\n",
    "ax1.set_xlabel('scores0')\n",
    "ax2.hist(x=scores1, bins=25,  color='darkgray')\n",
    "ax2.set(xlim=(0, 100), xticks=np.arange(0, 100, 10))\n",
    "ax2.set_xlabel('scores1')\n",
    "ax3.hist(x=scores2, bins=25,  color='darkgray')\n",
    "ax3.set(xlim=(0, 100), xticks=np.arange(0, 100, 10))\n",
    "ax3.set_xlabel('scores2')\n",
    "f.set_figwidth(12)"
   ]
  },
  {
   "cell_type": "markdown",
   "metadata": {},
   "source": [
    "Все 3 варианта показывают схожее распределение, поэтому для анализа выберу 3 вариант с наибольшим объемом данных. Однако, в глаза бросается отсутствие значений меньше 30 для не преобразованных данных. Задавать минимальную оценку игры в 30 баллов из 100 сомнительно."
   ]
  },
  {
   "cell_type": "markdown",
   "metadata": {},
   "source": [
    "<h3>Мнения</h3>"
   ]
  },
  {
   "cell_type": "markdown",
   "metadata": {},
   "source": [
    "Продолжать ли разработку после тизера?"
   ]
  },
  {
   "cell_type": "code",
   "execution_count": null,
   "metadata": {},
   "outputs": [
    {
     "data": {
      "text/plain": [
       "Continue development?\n",
       "Yes    40891\n",
       "No      2223\n",
       "Name: count, dtype: int64"
      ]
     },
     "execution_count": 60,
     "metadata": {},
     "output_type": "execute_result"
    }
   ],
   "source": [
    "df_wrk['Continue development?'].value_counts()"
   ]
  },
  {
   "cell_type": "markdown",
   "metadata": {},
   "source": [
    "Какой тип игры предпочтут опрошенные?"
   ]
  },
  {
   "cell_type": "code",
   "execution_count": null,
   "metadata": {},
   "outputs": [
    {
     "data": {
      "text/plain": [
       "3778"
      ]
     },
     "execution_count": 61,
     "metadata": {},
     "output_type": "execute_result"
    }
   ],
   "source": [
    "len(df_wrk['What do you like to see as next Gothic game?'].unique())"
   ]
  },
  {
   "cell_type": "code",
   "execution_count": null,
   "metadata": {},
   "outputs": [
    {
     "data": {
      "text/plain": [
       "What do you like to see as next Gothic game?\n",
       "Gothic Remake(s)                                                                                                    26012\n",
       "Gothic Sequel                                                                                                        7573\n",
       "Gothic Prequel                                                                                                       4989\n",
       "All of the above                                                                                                       66\n",
       "all of the above                                                                                                       48\n",
       "                                                                                                                    ...  \n",
       "Gothic Remake (s) are fine but i hope if they come there will be a Prequel as well after that.                          1\n",
       "ALL =)))                                                                                                                1\n",
       "ALL OF THE ABOVE!                                                                                                       1\n",
       "Remake but with more connection to the original or just a completely different story, like an alternate universe        1\n",
       "G1 & G2 remaster (not remake), proper G4 (Arcania isn't Gothic!) or G1 unreleased DLC                                   1\n",
       "Name: count, Length: 3777, dtype: int64"
      ]
     },
     "execution_count": 62,
     "metadata": {},
     "output_type": "execute_result"
    }
   ],
   "source": [
    "df_wrk['What do you like to see as next Gothic game?'].value_counts()"
   ]
  },
  {
   "cell_type": "markdown",
   "metadata": {},
   "source": [
    "Насколько понравилось переосмысление игры?"
   ]
  },
  {
   "cell_type": "code",
   "execution_count": null,
   "metadata": {},
   "outputs": [
    {
     "data": {
      "text/plain": [
       "How did you like the approach to re-interpret the plot?\n",
       "Was ok but could be better    25344\n",
       "It was spot on!               12571\n",
       "Didnt like it at all           5199\n",
       "Name: count, dtype: int64"
      ]
     },
     "execution_count": 63,
     "metadata": {},
     "output_type": "execute_result"
    }
   ],
   "source": [
    "df_wrk['How did you like the approach to re-interpret the plot?'].value_counts()"
   ]
  }
 ],
 "metadata": {
  "kernelspec": {
   "display_name": "base",
   "language": "python",
   "name": "python3"
  },
  "language_info": {
   "codemirror_mode": {
    "name": "ipython",
    "version": 3
   },
   "file_extension": ".py",
   "mimetype": "text/x-python",
   "name": "python",
   "nbconvert_exporter": "python",
   "pygments_lexer": "ipython3",
   "version": "3.11.8"
  },
  "orig_nbformat": 4
 },
 "nbformat": 4,
 "nbformat_minor": 2
}
